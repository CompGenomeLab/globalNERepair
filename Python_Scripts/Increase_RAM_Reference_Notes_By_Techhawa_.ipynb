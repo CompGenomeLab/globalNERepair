{
  "nbformat": 4,
  "nbformat_minor": 0,
  "metadata": {
    "colab": {
      "name": "Increase RAM Reference Notes By Techhawa .ipynb",
      "provenance": [],
      "collapsed_sections": [
        "sneB5f8OX3ZT",
        "mLA7MMzEX2R8",
        "BwicxRHjXyKg",
        "uBMVnuubYC4T",
        "eYUopCzIAGWn",
        "qbvJe3XjhkpD",
        "mFXlDGPvhqva",
        "jjV0XaiA-S2o",
        "GlougFNF-rb0",
        "VG3wDdPI-otJ",
        "ZZMB69fd6_0m",
        "MNZvw4ti9xuR",
        "5kX23KKu3Rxv",
        "2cP0JIIG41J7",
        "Q69j-8oC5hW4",
        "p-ZbMtVU6Hiz",
        "vx6aJDan3r7s",
        "lxxCi9_wXMpn",
        "2IAtp13At5PO",
        "azy6G8jYxykF",
        "57ffoHt8NXEg",
        "oj88x33RNcL7",
        "2YHOvJfERkWN",
        "AciYZ-lBNi1w",
        "Ljun1IiHNncM",
        "3l6R809r2gjx"
      ],
      "machine_shape": "hm"
    },
    "kernelspec": {
      "display_name": "Python 3",
      "name": "python3"
    }
  },
  "cells": [
    {
      "cell_type": "code",
      "metadata": {
        "id": "tZRSiDYNQLSr"
      },
      "source": [
        "w# as you can see current ram is 12GB only, to increase it run below code"
      ],
      "execution_count": null,
      "outputs": []
    },
    {
      "cell_type": "markdown",
      "metadata": {
        "id": "sneB5f8OX3ZT"
      },
      "source": [
        "# Data Required Packages and Uploads"
      ]
    },
    {
      "cell_type": "code",
      "metadata": {
        "id": "3f0eh-bXXZxz",
        "colab": {
          "base_uri": "https://localhost:8080/"
        },
        "outputId": "364853a8-0410-4f60-b3f1-651a76a5f0fe"
      },
      "source": [
        "pip install sh"
      ],
      "execution_count": null,
      "outputs": [
        {
          "output_type": "stream",
          "text": [
            "Collecting sh\n",
            "\u001b[?25l  Downloading https://files.pythonhosted.org/packages/50/38/f7dcc62943d0870f02df9e2fa527b7f0cd86b233a80d6e503a08f3ef5ddc/sh-1.14.1-py2.py3-none-any.whl (40kB)\n",
            "\r\u001b[K     |████████▏                       | 10kB 16.7MB/s eta 0:00:01\r\u001b[K     |████████████████▎               | 20kB 10.8MB/s eta 0:00:01\r\u001b[K     |████████████████████████▍       | 30kB 8.0MB/s eta 0:00:01\r\u001b[K     |████████████████████████████████| 40kB 3.3MB/s \n",
            "\u001b[?25hInstalling collected packages: sh\n",
            "Successfully installed sh-1.14.1\n"
          ],
          "name": "stdout"
        }
      ]
    },
    {
      "cell_type": "code",
      "metadata": {
        "id": "C-oLI5zFRblV",
        "colab": {
          "base_uri": "https://localhost:8080/"
        },
        "outputId": "e53f1e41-30f9-4128-cee3-4187a9135c4f"
      },
      "source": [
        "!apt-get install bedtools"
      ],
      "execution_count": null,
      "outputs": [
        {
          "output_type": "stream",
          "text": [
            "Reading package lists... Done\n",
            "Building dependency tree       \n",
            "Reading state information... Done\n",
            "The following NEW packages will be installed:\n",
            "  bedtools\n",
            "0 upgraded, 1 newly installed, 0 to remove and 13 not upgraded.\n",
            "Need to get 577 kB of archives.\n",
            "After this operation, 2,040 kB of additional disk space will be used.\n",
            "Get:1 http://archive.ubuntu.com/ubuntu bionic/universe amd64 bedtools amd64 2.26.0+dfsg-5 [577 kB]\n",
            "Fetched 577 kB in 1s (752 kB/s)\n",
            "Selecting previously unselected package bedtools.\n",
            "(Reading database ... 146374 files and directories currently installed.)\n",
            "Preparing to unpack .../bedtools_2.26.0+dfsg-5_amd64.deb ...\n",
            "Unpacking bedtools (2.26.0+dfsg-5) ...\n",
            "Setting up bedtools (2.26.0+dfsg-5) ...\n"
          ],
          "name": "stdout"
        }
      ]
    },
    {
      "cell_type": "code",
      "metadata": {
        "id": "cD1C5RZdXfzh"
      },
      "source": [
        "from google.colab import files\r\n",
        "import pandas as pd\r\n",
        "from itertools import islice\r\n",
        "from sh import gunzip\r\n",
        "import numpy as np\r\n",
        "import os"
      ],
      "execution_count": null,
      "outputs": []
    },
    {
      "cell_type": "markdown",
      "metadata": {
        "id": "dVLVvuK3sFmt"
      },
      "source": [
        "To grant access for reaching google Drive folders."
      ]
    },
    {
      "cell_type": "code",
      "metadata": {
        "colab": {
          "base_uri": "https://localhost:8080/"
        },
        "id": "aQwfqUAuFroO",
        "outputId": "37b94453-7570-4ccb-e9c0-f7510b0dc13f"
      },
      "source": [
        "from google.colab import drive\n",
        "drive.mount('/content/drive')"
      ],
      "execution_count": null,
      "outputs": [
        {
          "output_type": "stream",
          "text": [
            "Mounted at /content/drive\n"
          ],
          "name": "stdout"
        }
      ]
    },
    {
      "cell_type": "markdown",
      "metadata": {
        "id": "Q7HmZ8Ykr672"
      },
      "source": [
        "To upload and unzip a file from local to google colab."
      ]
    },
    {
      "cell_type": "code",
      "metadata": {
        "id": "2ahh0vCKY8hV"
      },
      "source": [
        "#uploaded2 = files.upload()"
      ],
      "execution_count": null,
      "outputs": []
    },
    {
      "cell_type": "code",
      "metadata": {
        "id": "FM_aMS4nXmHJ"
      },
      "source": [
        "#gunzip('/content/Homo_sapiens.GRCh37.87.gtf.gz')"
      ],
      "execution_count": null,
      "outputs": []
    },
    {
      "cell_type": "markdown",
      "metadata": {
        "id": "mLA7MMzEX2R8"
      },
      "source": [
        "# Read File and edit columns"
      ]
    },
    {
      "cell_type": "code",
      "metadata": {
        "id": "yf_6U9BtXpHo"
      },
      "source": [
        "fl = open(\"/content/drive/MyDrive/Scripts/Data/Homo_sapiens.GRCh37.87.gtf\",\"r\")\r\n",
        "\r\n",
        "level_I_genes = []\r\n",
        "level_II_genes = []\r\n",
        "\r\n",
        "\r\n",
        "for line in fl:\r\n",
        "  column = line.split(\" \")\r\n",
        "  chromosome = column[0]\r\n",
        "  feature = column[2]\r\n",
        "  start = column[3]\r\n",
        "  end = column[4]\r\n",
        "  strand = column[6]\r\n",
        "  gene_name = column[13]\r\n",
        "\r\n",
        "  if feature == \"gene\" and (int(end) - int(start) >= 10000):        # Checks gene length\r\n",
        "    level_I_genes.append(column)\r\n",
        "\r\n",
        "fl.close()"
      ],
      "execution_count": null,
      "outputs": []
    },
    {
      "cell_type": "markdown",
      "metadata": {
        "id": "BwicxRHjXyKg"
      },
      "source": [
        "# Data Frame creation"
      ]
    },
    {
      "cell_type": "code",
      "metadata": {
        "id": "TYi4s89nXvEX",
        "colab": {
          "base_uri": "https://localhost:8080/",
          "height": 419
        },
        "outputId": "4f8058a2-5726-46b4-d428-b5e1a45a22e0"
      },
      "source": [
        "col_headers = [\"Chromosome_Name\", \"Sequence_Source\", \"Sequence_Feature\", \"Start\", \"End\", \"Strand\", \"Gene_ID\", \"Gene_Name\"]\r\n",
        "List_b_DF = []\r\n",
        "\r\n",
        "for EL in level_I_genes:\r\n",
        "  Chromosome_Name = EL[0]\r\n",
        "  Sequence_Source = EL[1]\r\n",
        "  Sequence_Feature = EL[2]\r\n",
        "  Start = EL[3]\r\n",
        "  End = EL[4]\r\n",
        "  Strand = EL[6]\r\n",
        "  Gene_ID = EL[9]\r\n",
        "  Gene_Name = EL[13]\r\n",
        "\r\n",
        "  List_b_DF.append([Chromosome_Name, Sequence_Source, Sequence_Feature, Start, End, Strand, Gene_ID, Gene_Name])\r\n",
        "  DF = pd.DataFrame(List_b_DF, columns = col_headers)\r\n",
        "\r\n",
        "\r\n",
        "DF"
      ],
      "execution_count": null,
      "outputs": [
        {
          "output_type": "execute_result",
          "data": {
            "text/html": [
              "<div>\n",
              "<style scoped>\n",
              "    .dataframe tbody tr th:only-of-type {\n",
              "        vertical-align: middle;\n",
              "    }\n",
              "\n",
              "    .dataframe tbody tr th {\n",
              "        vertical-align: top;\n",
              "    }\n",
              "\n",
              "    .dataframe thead th {\n",
              "        text-align: right;\n",
              "    }\n",
              "</style>\n",
              "<table border=\"1\" class=\"dataframe\">\n",
              "  <thead>\n",
              "    <tr style=\"text-align: right;\">\n",
              "      <th></th>\n",
              "      <th>Chromosome_Name</th>\n",
              "      <th>Sequence_Source</th>\n",
              "      <th>Sequence_Feature</th>\n",
              "      <th>Start</th>\n",
              "      <th>End</th>\n",
              "      <th>Strand</th>\n",
              "      <th>Gene_ID</th>\n",
              "      <th>Gene_Name</th>\n",
              "    </tr>\n",
              "  </thead>\n",
              "  <tbody>\n",
              "    <tr>\n",
              "      <th>0</th>\n",
              "      <td>1</td>\n",
              "      <td>ensembl_havana</td>\n",
              "      <td>gene</td>\n",
              "      <td>14363</td>\n",
              "      <td>29806</td>\n",
              "      <td>-</td>\n",
              "      <td>\"ENSG00000227232\"</td>\n",
              "      <td>\"WASH7P\"</td>\n",
              "    </tr>\n",
              "    <tr>\n",
              "      <th>1</th>\n",
              "      <td>1</td>\n",
              "      <td>havana</td>\n",
              "      <td>gene</td>\n",
              "      <td>89295</td>\n",
              "      <td>133566</td>\n",
              "      <td>-</td>\n",
              "      <td>\"ENSG00000238009\"</td>\n",
              "      <td>\"RP11-34P13.7\"</td>\n",
              "    </tr>\n",
              "    <tr>\n",
              "      <th>2</th>\n",
              "      <td>1</td>\n",
              "      <td>havana</td>\n",
              "      <td>gene</td>\n",
              "      <td>141474</td>\n",
              "      <td>173862</td>\n",
              "      <td>-</td>\n",
              "      <td>\"ENSG00000241860\"</td>\n",
              "      <td>\"RP11-34P13.13\"</td>\n",
              "    </tr>\n",
              "    <tr>\n",
              "      <th>3</th>\n",
              "      <td>1</td>\n",
              "      <td>havana</td>\n",
              "      <td>gene</td>\n",
              "      <td>227615</td>\n",
              "      <td>267253</td>\n",
              "      <td>-</td>\n",
              "      <td>\"ENSG00000228463\"</td>\n",
              "      <td>\"AP006222.2\"</td>\n",
              "    </tr>\n",
              "    <tr>\n",
              "      <th>4</th>\n",
              "      <td>1</td>\n",
              "      <td>ensembl_havana</td>\n",
              "      <td>gene</td>\n",
              "      <td>317720</td>\n",
              "      <td>453948</td>\n",
              "      <td>+</td>\n",
              "      <td>\"ENSG00000237094\"</td>\n",
              "      <td>\"RP4-669L17.10\"</td>\n",
              "    </tr>\n",
              "    <tr>\n",
              "      <th>...</th>\n",
              "      <td>...</td>\n",
              "      <td>...</td>\n",
              "      <td>...</td>\n",
              "      <td>...</td>\n",
              "      <td>...</td>\n",
              "      <td>...</td>\n",
              "      <td>...</td>\n",
              "      <td>...</td>\n",
              "    </tr>\n",
              "    <tr>\n",
              "      <th>20701</th>\n",
              "      <td>GL000218.1</td>\n",
              "      <td>ensembl</td>\n",
              "      <td>gene</td>\n",
              "      <td>38792</td>\n",
              "      <td>97421</td>\n",
              "      <td>-</td>\n",
              "      <td>\"ENSG00000215615\"</td>\n",
              "      <td>\"AL354822.1\"</td>\n",
              "    </tr>\n",
              "    <tr>\n",
              "      <th>20702</th>\n",
              "      <td>GL000209.1</td>\n",
              "      <td>ensembl</td>\n",
              "      <td>gene</td>\n",
              "      <td>7891</td>\n",
              "      <td>96246</td>\n",
              "      <td>+</td>\n",
              "      <td>\"ENSG00000215764\"</td>\n",
              "      <td>\"KIR2DL2\"</td>\n",
              "    </tr>\n",
              "    <tr>\n",
              "      <th>20703</th>\n",
              "      <td>GL000191.1</td>\n",
              "      <td>ensembl</td>\n",
              "      <td>gene</td>\n",
              "      <td>36277</td>\n",
              "      <td>50281</td>\n",
              "      <td>-</td>\n",
              "      <td>\"ENSG00000215699\"</td>\n",
              "      <td>\"SRSF10\"</td>\n",
              "    </tr>\n",
              "    <tr>\n",
              "      <th>20704</th>\n",
              "      <td>GL000242.1</td>\n",
              "      <td>ensembl</td>\n",
              "      <td>gene</td>\n",
              "      <td>12836</td>\n",
              "      <td>34543</td>\n",
              "      <td>+</td>\n",
              "      <td>\"ENSG00000251180\"</td>\n",
              "      <td>\"CU459201.1\"</td>\n",
              "    </tr>\n",
              "    <tr>\n",
              "      <th>20705</th>\n",
              "      <td>GL000201.1</td>\n",
              "      <td>ensembl</td>\n",
              "      <td>gene</td>\n",
              "      <td>3905</td>\n",
              "      <td>22432</td>\n",
              "      <td>+</td>\n",
              "      <td>\"ENSG00000215616\"</td>\n",
              "      <td>\"AC002321.2\"</td>\n",
              "    </tr>\n",
              "  </tbody>\n",
              "</table>\n",
              "<p>20706 rows × 8 columns</p>\n",
              "</div>"
            ],
            "text/plain": [
              "      Chromosome_Name Sequence_Source  ...            Gene_ID        Gene_Name\n",
              "0                   1  ensembl_havana  ...  \"ENSG00000227232\"         \"WASH7P\"\n",
              "1                   1          havana  ...  \"ENSG00000238009\"   \"RP11-34P13.7\"\n",
              "2                   1          havana  ...  \"ENSG00000241860\"  \"RP11-34P13.13\"\n",
              "3                   1          havana  ...  \"ENSG00000228463\"     \"AP006222.2\"\n",
              "4                   1  ensembl_havana  ...  \"ENSG00000237094\"  \"RP4-669L17.10\"\n",
              "...               ...             ...  ...                ...              ...\n",
              "20701      GL000218.1         ensembl  ...  \"ENSG00000215615\"     \"AL354822.1\"\n",
              "20702      GL000209.1         ensembl  ...  \"ENSG00000215764\"        \"KIR2DL2\"\n",
              "20703      GL000191.1         ensembl  ...  \"ENSG00000215699\"         \"SRSF10\"\n",
              "20704      GL000242.1         ensembl  ...  \"ENSG00000251180\"     \"CU459201.1\"\n",
              "20705      GL000201.1         ensembl  ...  \"ENSG00000215616\"     \"AC002321.2\"\n",
              "\n",
              "[20706 rows x 8 columns]"
            ]
          },
          "metadata": {
            "tags": []
          },
          "execution_count": 8
        }
      ]
    },
    {
      "cell_type": "markdown",
      "metadata": {
        "id": "uBMVnuubYC4T"
      },
      "source": [
        "# DataFrame filtering steps"
      ]
    },
    {
      "cell_type": "markdown",
      "metadata": {
        "id": "p6VSN3MS_hbz"
      },
      "source": [
        "Eleminating genes which span smaller than 10000 bases"
      ]
    },
    {
      "cell_type": "code",
      "metadata": {
        "id": "-HLcLYeuYCYr",
        "colab": {
          "base_uri": "https://localhost:8080/",
          "height": 142
        },
        "outputId": "b54b4648-72be-4365-ebb9-0df20ff3bb48"
      },
      "source": [
        "convert_dict = {\"Chromosome_Name\" : str,\r\n",
        "                \"Sequence_Source\" : str,\r\n",
        "                \"Sequence_Feature\" : str,\r\n",
        "                \"Start\" : int,\r\n",
        "                \"End\" : int,\r\n",
        "                \"Strand\" : str,\r\n",
        "                \"Gene_ID\" : str,\r\n",
        "                \"Gene_Name\" : str} \r\n",
        "  \r\n",
        "DF = DF.astype(convert_dict) \r\n",
        "#DF.tail()\r\n",
        "\r\n",
        "Candidate_index = DF[DF[\"Start\"] <= 10000].index\r\n",
        "#print(Candidate_index)\r\n",
        "\r\n",
        "DF = DF.drop(Candidate_index)\r\n",
        "\r\n",
        "DF[DF[\"Start\"] <= 15000]           # To check whether the row is discarded"
      ],
      "execution_count": null,
      "outputs": [
        {
          "output_type": "execute_result",
          "data": {
            "text/html": [
              "<div>\n",
              "<style scoped>\n",
              "    .dataframe tbody tr th:only-of-type {\n",
              "        vertical-align: middle;\n",
              "    }\n",
              "\n",
              "    .dataframe tbody tr th {\n",
              "        vertical-align: top;\n",
              "    }\n",
              "\n",
              "    .dataframe thead th {\n",
              "        text-align: right;\n",
              "    }\n",
              "</style>\n",
              "<table border=\"1\" class=\"dataframe\">\n",
              "  <thead>\n",
              "    <tr style=\"text-align: right;\">\n",
              "      <th></th>\n",
              "      <th>Chromosome_Name</th>\n",
              "      <th>Sequence_Source</th>\n",
              "      <th>Sequence_Feature</th>\n",
              "      <th>Start</th>\n",
              "      <th>End</th>\n",
              "      <th>Strand</th>\n",
              "      <th>Gene_ID</th>\n",
              "      <th>Gene_Name</th>\n",
              "    </tr>\n",
              "  </thead>\n",
              "  <tbody>\n",
              "    <tr>\n",
              "      <th>0</th>\n",
              "      <td>1</td>\n",
              "      <td>ensembl_havana</td>\n",
              "      <td>gene</td>\n",
              "      <td>14363</td>\n",
              "      <td>29806</td>\n",
              "      <td>-</td>\n",
              "      <td>\"ENSG00000227232\"</td>\n",
              "      <td>\"WASH7P\"</td>\n",
              "    </tr>\n",
              "    <tr>\n",
              "      <th>10144</th>\n",
              "      <td>9</td>\n",
              "      <td>ensembl_havana</td>\n",
              "      <td>gene</td>\n",
              "      <td>14511</td>\n",
              "      <td>29739</td>\n",
              "      <td>-</td>\n",
              "      <td>\"ENSG00000181404\"</td>\n",
              "      <td>\"XXyac-YRM2039.2\"</td>\n",
              "    </tr>\n",
              "    <tr>\n",
              "      <th>20704</th>\n",
              "      <td>GL000242.1</td>\n",
              "      <td>ensembl</td>\n",
              "      <td>gene</td>\n",
              "      <td>12836</td>\n",
              "      <td>34543</td>\n",
              "      <td>+</td>\n",
              "      <td>\"ENSG00000251180\"</td>\n",
              "      <td>\"CU459201.1\"</td>\n",
              "    </tr>\n",
              "  </tbody>\n",
              "</table>\n",
              "</div>"
            ],
            "text/plain": [
              "      Chromosome_Name Sequence_Source  ...            Gene_ID          Gene_Name\n",
              "0                   1  ensembl_havana  ...  \"ENSG00000227232\"           \"WASH7P\"\n",
              "10144               9  ensembl_havana  ...  \"ENSG00000181404\"  \"XXyac-YRM2039.2\"\n",
              "20704      GL000242.1         ensembl  ...  \"ENSG00000251180\"       \"CU459201.1\"\n",
              "\n",
              "[3 rows x 8 columns]"
            ]
          },
          "metadata": {
            "tags": []
          },
          "execution_count": 9
        }
      ]
    },
    {
      "cell_type": "code",
      "metadata": {
        "id": "UBbTL3hZgN_K",
        "colab": {
          "base_uri": "https://localhost:8080/",
          "height": 49
        },
        "outputId": "65569a99-903a-4471-e91d-de01a4eb3e86"
      },
      "source": [
        "DF[DF[\"Start\"] < 10]"
      ],
      "execution_count": null,
      "outputs": [
        {
          "output_type": "execute_result",
          "data": {
            "text/html": [
              "<div>\n",
              "<style scoped>\n",
              "    .dataframe tbody tr th:only-of-type {\n",
              "        vertical-align: middle;\n",
              "    }\n",
              "\n",
              "    .dataframe tbody tr th {\n",
              "        vertical-align: top;\n",
              "    }\n",
              "\n",
              "    .dataframe thead th {\n",
              "        text-align: right;\n",
              "    }\n",
              "</style>\n",
              "<table border=\"1\" class=\"dataframe\">\n",
              "  <thead>\n",
              "    <tr style=\"text-align: right;\">\n",
              "      <th></th>\n",
              "      <th>Chromosome_Name</th>\n",
              "      <th>Sequence_Source</th>\n",
              "      <th>Sequence_Feature</th>\n",
              "      <th>Start</th>\n",
              "      <th>End</th>\n",
              "      <th>Strand</th>\n",
              "      <th>Gene_ID</th>\n",
              "      <th>Gene_Name</th>\n",
              "    </tr>\n",
              "  </thead>\n",
              "  <tbody>\n",
              "  </tbody>\n",
              "</table>\n",
              "</div>"
            ],
            "text/plain": [
              "Empty DataFrame\n",
              "Columns: [Chromosome_Name, Sequence_Source, Sequence_Feature, Start, End, Strand, Gene_ID, Gene_Name]\n",
              "Index: []"
            ]
          },
          "metadata": {
            "tags": []
          },
          "execution_count": 10
        }
      ]
    },
    {
      "cell_type": "code",
      "metadata": {
        "id": "TFiRsrWJf04_",
        "colab": {
          "base_uri": "https://localhost:8080/",
          "height": 80
        },
        "outputId": "0fdc949f-9561-4d9d-ed0f-38fd780dbde0"
      },
      "source": [
        "DF[(DF[\"End\"] - DF[\"Start\"]) == 10000]"
      ],
      "execution_count": null,
      "outputs": [
        {
          "output_type": "execute_result",
          "data": {
            "text/html": [
              "<div>\n",
              "<style scoped>\n",
              "    .dataframe tbody tr th:only-of-type {\n",
              "        vertical-align: middle;\n",
              "    }\n",
              "\n",
              "    .dataframe tbody tr th {\n",
              "        vertical-align: top;\n",
              "    }\n",
              "\n",
              "    .dataframe thead th {\n",
              "        text-align: right;\n",
              "    }\n",
              "</style>\n",
              "<table border=\"1\" class=\"dataframe\">\n",
              "  <thead>\n",
              "    <tr style=\"text-align: right;\">\n",
              "      <th></th>\n",
              "      <th>Chromosome_Name</th>\n",
              "      <th>Sequence_Source</th>\n",
              "      <th>Sequence_Feature</th>\n",
              "      <th>Start</th>\n",
              "      <th>End</th>\n",
              "      <th>Strand</th>\n",
              "      <th>Gene_ID</th>\n",
              "      <th>Gene_Name</th>\n",
              "    </tr>\n",
              "  </thead>\n",
              "  <tbody>\n",
              "    <tr>\n",
              "      <th>19773</th>\n",
              "      <td>19</td>\n",
              "      <td>ensembl_havana</td>\n",
              "      <td>gene</td>\n",
              "      <td>55417508</td>\n",
              "      <td>55427508</td>\n",
              "      <td>+</td>\n",
              "      <td>\"ENSG00000189430\"</td>\n",
              "      <td>\"NCR1\"</td>\n",
              "    </tr>\n",
              "  </tbody>\n",
              "</table>\n",
              "</div>"
            ],
            "text/plain": [
              "      Chromosome_Name Sequence_Source  ...            Gene_ID  Gene_Name\n",
              "19773              19  ensembl_havana  ...  \"ENSG00000189430\"     \"NCR1\"\n",
              "\n",
              "[1 rows x 8 columns]"
            ]
          },
          "metadata": {
            "tags": []
          },
          "execution_count": 11
        }
      ]
    },
    {
      "cell_type": "markdown",
      "metadata": {
        "id": "EVmuEUAP_HNY"
      },
      "source": [
        "Eleminating genes found in nontraditional chromosomes"
      ]
    },
    {
      "cell_type": "code",
      "metadata": {
        "id": "z4YdvwAwho2S"
      },
      "source": [
        "Trash_DF = DF[DF[\"Chromosome_Name\"].str.match('(^G.+)') == True].index\r\n",
        "print(Trash_DF)\r\n",
        "\r\n",
        "DF = DF.drop(Trash_DF)\r\n",
        "DF.tail()"
      ],
      "execution_count": null,
      "outputs": []
    },
    {
      "cell_type": "markdown",
      "metadata": {
        "id": "eYUopCzIAGWn"
      },
      "source": [
        "# Second Filtering Step"
      ]
    },
    {
      "cell_type": "markdown",
      "metadata": {
        "id": "oFmrNDPpjmo0"
      },
      "source": [
        "Eleminating gene overlaps considering strandedness"
      ]
    },
    {
      "cell_type": "code",
      "metadata": {
        "id": "VwRJZM_Ugehj"
      },
      "source": [
        "fl2 = DF.copy()\r\n",
        "\r\n",
        "fl2"
      ],
      "execution_count": null,
      "outputs": []
    },
    {
      "cell_type": "markdown",
      "metadata": {
        "id": "qbvJe3XjhkpD"
      },
      "source": [
        "# Gene Overlap Method - Strand Exclusive Version"
      ]
    },
    {
      "cell_type": "code",
      "metadata": {
        "id": "hgXq4tkrjgBw"
      },
      "source": [
        "def GeneOverlap(fl2):\r\n",
        "  Trash_list = []\r\n",
        "\r\n",
        "  fl2_chr_list = fl2[\"Chromosome_Name\"].tolist()\r\n",
        "  fl2_start_list = fl2[\"Start\"].tolist()\r\n",
        "  fl2_end_list = fl2[\"End\"].tolist()\r\n",
        "\r\n",
        "  for i in range(0, len(fl2)-1):\r\n",
        "    for j in range(i+1, len(fl2)):\r\n",
        "\r\n",
        "      if fl2_chr_list[i] == \"1\" and fl2_chr_list[j] == \"1\":\r\n",
        "        if (fl2_start_list[i] <= fl2_end_list[j]) and (fl2_end_list[i] >= fl2_start_list[j]):\r\n",
        "          if i not in Trash_list:\r\n",
        "            Trash_list.append(i)\r\n",
        "            \r\n",
        "    \r\n",
        "      if fl2_chr_list[i] == \"2\" and fl2_chr_list[j] == \"2\":\r\n",
        "        if (fl2_start_list[i] <= fl2_end_list[j]) and (fl2_end_list[i] >= fl2_start_list[j]):\r\n",
        "          if i not in Trash_list:\r\n",
        "            Trash_list.append(i)\r\n",
        "            \r\n",
        "\r\n",
        "      if fl2_chr_list[i] == \"3\" and fl2_chr_list[j] == \"3\":\r\n",
        "        if (fl2_start_list[i] <= fl2_end_list[j]) and (fl2_end_list[i] >= fl2_start_list[j]):\r\n",
        "          if i not in Trash_list:\r\n",
        "            Trash_list.append(i)\r\n",
        "            \r\n",
        "\r\n",
        "      if fl2_chr_list[i] == \"4\" and fl2_chr_list[j] == \"4\":\r\n",
        "        if (fl2_start_list[i] <= fl2_end_list[j]) and (fl2_end_list[i] >= fl2_start_list[j]):\r\n",
        "          if i not in Trash_list:\r\n",
        "            Trash_list.append(i)\r\n",
        "            \r\n",
        "\r\n",
        "      if fl2_chr_list[i] == \"5\" and fl2_chr_list[j] == \"5\":\r\n",
        "        if (fl2_start_list[i] <= fl2_end_list[j]) and (fl2_end_list[i] >= fl2_start_list[j]):\r\n",
        "          if i not in Trash_list:\r\n",
        "            Trash_list.append(i)\r\n",
        "            \r\n",
        "\r\n",
        "      if fl2_chr_list[i] == \"6\" and fl2_chr_list[j] == \"6\":\r\n",
        "        if (fl2_start_list[i] <= fl2_end_list[j]) and (fl2_end_list[i] >= fl2_start_list[j]):\r\n",
        "          if i not in Trash_list:\r\n",
        "            Trash_list.append(i)\r\n",
        "            \r\n",
        "\r\n",
        "      if fl2_chr_list[i] == \"7\" and fl2_chr_list[j] == \"7\":\r\n",
        "        if (fl2_start_list[i] <= fl2_end_list[j]) and (fl2_end_list[i] >= fl2_start_list[j]):\r\n",
        "          if i not in Trash_list:\r\n",
        "            Trash_list.append(i)\r\n",
        "            \r\n",
        "\r\n",
        "      if fl2_chr_list[i] == \"X\" and fl2_chr_list[j] == \"X\":\r\n",
        "        if (fl2_start_list[i] <= fl2_end_list[j]) and (fl2_end_list[i] >= fl2_start_list[j]):\r\n",
        "          if i not in Trash_list:\r\n",
        "            Trash_list.append(i)\r\n",
        "            \r\n",
        "\r\n",
        "      if fl2_chr_list[i] == \"8\" and fl2_chr_list[j] == \"8\":\r\n",
        "        if (fl2_start_list[i] <= fl2_end_list[j]) and (fl2_end_list[i] >= fl2_start_list[j]):\r\n",
        "          if i not in Trash_list:\r\n",
        "            Trash_list.append(i)\r\n",
        "            \r\n",
        "\r\n",
        "      if fl2_chr_list[i] == \"9\" and fl2_chr_list[j] == \"9\":\r\n",
        "        if (fl2_start_list[i] <= fl2_end_list[j]) and (fl2_end_list[i] >= fl2_start_list[j]):\r\n",
        "          if i not in Trash_list:\r\n",
        "            Trash_list.append(i)\r\n",
        "            \r\n",
        "\r\n",
        "      if fl2_chr_list[i] == \"10\" and fl2_chr_list[j] == \"10\":\r\n",
        "        if (fl2_start_list[i] <= fl2_end_list[j]) and (fl2_end_list[i] >= fl2_start_list[j]):\r\n",
        "          if i not in Trash_list:\r\n",
        "            Trash_list.append(i)\r\n",
        "            \r\n",
        "\r\n",
        "      if fl2_chr_list[i] == \"11\" and fl2_chr_list[j] == \"11\":\r\n",
        "        if (fl2_start_list[i] <= fl2_end_list[j]) and (fl2_end_list[i] >= fl2_start_list[j]):\r\n",
        "          if i not in Trash_list:\r\n",
        "            Trash_list.append(i)\r\n",
        "            \r\n",
        "\r\n",
        "      if fl2_chr_list[i] == \"12\" and fl2_chr_list[j] == \"12\":\r\n",
        "        if (fl2_start_list[i] <= fl2_end_list[j]) and (fl2_end_list[i] >= fl2_start_list[j]):\r\n",
        "          if i not in Trash_list:\r\n",
        "            Trash_list.append(i)\r\n",
        "            \r\n",
        "\r\n",
        "      if fl2_chr_list[i] == \"13\" and fl2_chr_list[j] == \"13\":\r\n",
        "        if (fl2_start_list[i] <= fl2_end_list[j]) and (fl2_end_list[i] >= fl2_start_list[j]):\r\n",
        "          if i not in Trash_list:\r\n",
        "            Trash_list.append(i)\r\n",
        "            \r\n",
        "\r\n",
        "      if fl2_chr_list[i] == \"14\" and fl2_chr_list[j] == \"14\":\r\n",
        "        if (fl2_start_list[i] <= fl2_end_list[j]) and (fl2_end_list[i] >= fl2_start_list[j]):\r\n",
        "          if i not in Trash_list:\r\n",
        "            Trash_list.append(i)\r\n",
        "            \r\n",
        "\r\n",
        "      if fl2_chr_list[i] == \"15\" and fl2_chr_list[j] == \"15\":\r\n",
        "        if (fl2_start_list[i] <= fl2_end_list[j]) and (fl2_end_list[i] >= fl2_start_list[j]):\r\n",
        "          if i not in Trash_list:\r\n",
        "            Trash_list.append(i)\r\n",
        "            \r\n",
        "\r\n",
        "      if fl2_chr_list[i] == \"16\" and fl2_chr_list[j] == \"16\":\r\n",
        "        if (fl2_start_list[i] <= fl2_end_list[j]) and (fl2_end_list[i] >= fl2_start_list[j]):\r\n",
        "          if i not in Trash_list:\r\n",
        "            Trash_list.append(i)\r\n",
        "            \r\n",
        "\r\n",
        "      if fl2_chr_list[i] == \"17\" and fl2_chr_list[j] == \"17\":\r\n",
        "        if (fl2_start_list[i] <= fl2_end_list[j]) and (fl2_end_list[i] >= fl2_start_list[j]):\r\n",
        "          if i not in Trash_list:\r\n",
        "            Trash_list.append(i)\r\n",
        "            \r\n",
        "\r\n",
        "      if fl2_chr_list[i] == \"18\" and fl2_chr_list[j] == \"18\":\r\n",
        "        if (fl2_start_list[i] <= fl2_end_list[j]) and (fl2_end_list[i] >= fl2_start_list[j]):\r\n",
        "          if i not in Trash_list:\r\n",
        "            Trash_list.append(i)\r\n",
        "            \r\n",
        "\r\n",
        "      if fl2_chr_list[i] == \"20\" and fl2_chr_list[j] == \"20\":\r\n",
        "        if (fl2_start_list[i] <= fl2_end_list[j]) and (fl2_end_list[i] >= fl2_start_list[j]):\r\n",
        "          if i not in Trash_list:\r\n",
        "            Trash_list.append(i)\r\n",
        "            \r\n",
        "\r\n",
        "      if fl2_chr_list[i] == \"19\" and fl2_chr_list[j] == \"19\":\r\n",
        "        if (fl2_start_list[i] <= fl2_end_list[j]) and (fl2_end_list[i] >= fl2_start_list[j]):\r\n",
        "          if i not in Trash_list:\r\n",
        "            Trash_list.append(i)\r\n",
        "            \r\n",
        "\r\n",
        "      if fl2_chr_list[i] == \"Y\" and fl2_chr_list[j] == \"Y\":\r\n",
        "        if (fl2_start_list[i] <= fl2_end_list[j]) and (fl2_end_list[i] >= fl2_start_list[j]):\r\n",
        "          if i not in Trash_list:\r\n",
        "            Trash_list.append(i)\r\n",
        "            \r\n",
        "\r\n",
        "      if fl2_chr_list[i] == \"22\" and fl2_chr_list[j] == \"22\":\r\n",
        "        if (fl2_start_list[i] <= fl2_end_list[j]) and (fl2_end_list[i] >= fl2_start_list[j]):\r\n",
        "          if i not in Trash_list:\r\n",
        "            Trash_list.append(i)\r\n",
        "            \r\n",
        "\r\n",
        "      if fl2_chr_list[i] == \"21\" and fl2_chr_list[j] == \"21\":\r\n",
        "        if (fl2_start_list[i] <= fl2_end_list[j]) and (fl2_end_list[i] >= fl2_start_list[j]):\r\n",
        "          if i not in Trash_list:\r\n",
        "            Trash_list.append(i)\r\n",
        "\r\n",
        "\r\n",
        "  return Trash_list"
      ],
      "execution_count": null,
      "outputs": []
    },
    {
      "cell_type": "markdown",
      "metadata": {
        "id": "mFXlDGPvhqva"
      },
      "source": [
        "# Gene Overlap Method - Strand Specific Version"
      ]
    },
    {
      "cell_type": "code",
      "metadata": {
        "id": "V7ctqUpVhqRw"
      },
      "source": [
        "def GeneOverlap(fl2):\r\n",
        "  Trash_list = []\r\n",
        "\r\n",
        "  fl2_chr_list = fl2[\"Chromosome_Name\"].tolist()\r\n",
        "  fl2_start_list = fl2[\"Start\"].tolist()\r\n",
        "  fl2_end_list = fl2[\"End\"].tolist()\r\n",
        "  fl2_strand_list = fl2[\"Strand\"].tolist()\r\n",
        "\r\n",
        "  for i in range(0, len(fl2)- 1):\r\n",
        "    for j in range(i+1, len(fl2)):\r\n",
        "\r\n",
        "      if fl2_chr_list[i] == \"1\" and fl2_chr_list[j] == \"1\" and fl2_strand_list[i] == fl2_strand_list[j]:\r\n",
        "        if (fl2_start_list[i] <= fl2_end_list[j]) and (fl2_end_list[i] >= fl2_start_list[j]):\r\n",
        "          if i not in Trash_list:\r\n",
        "            Trash_list.append(i)\r\n",
        "    \r\n",
        "      if fl2_chr_list[i] == \"2\" and fl2_chr_list[j] == \"2\" and fl2_strand_list[i] == fl2_strand_list[j]:\r\n",
        "        if (fl2_start_list[i] <= fl2_end_list[j]) and (fl2_end_list[i] >= fl2_start_list[j]):\r\n",
        "          if i not in Trash_list:\r\n",
        "            Trash_list.append(i)\r\n",
        "\r\n",
        "      if fl2_chr_list[i] == \"3\" and fl2_chr_list[j] == \"3\" and fl2_strand_list[i] == fl2_strand_list[j]:\r\n",
        "        if (fl2_start_list[i] <= fl2_end_list[j]) and (fl2_end_list[i] >= fl2_start_list[j]):\r\n",
        "          if i not in Trash_list:\r\n",
        "            Trash_list.append(i)\r\n",
        "\r\n",
        "      if fl2_chr_list[i] == \"4\" and fl2_chr_list[j] == \"4\" and fl2_strand_list[i] == fl2_strand_list[j]:\r\n",
        "        if (fl2_start_list[i] <= fl2_end_list[j]) and (fl2_end_list[i] >= fl2_start_list[j]):\r\n",
        "          if i not in Trash_list:\r\n",
        "            Trash_list.append(i)\r\n",
        "\r\n",
        "      if fl2_chr_list[i] == \"5\" and fl2_chr_list[j] == \"5\" and fl2_strand_list[i] == fl2_strand_list[j]:\r\n",
        "        if (fl2_start_list[i] <= fl2_end_list[j]) and (fl2_end_list[i] >= fl2_start_list[j]):\r\n",
        "          if i not in Trash_list:\r\n",
        "            Trash_list.append(i)\r\n",
        "\r\n",
        "      if fl2_chr_list[i] == \"6\" and fl2_chr_list[j] == \"6\" and fl2_strand_list[i] == fl2_strand_list[j]:\r\n",
        "        if (fl2_start_list[i] <= fl2_end_list[j]) and (fl2_end_list[i] >= fl2_start_list[j]):\r\n",
        "          if i not in Trash_list:\r\n",
        "            Trash_list.append(i)\r\n",
        "\r\n",
        "      if fl2_chr_list[i] == \"7\" and fl2_chr_list[j] == \"7\" and fl2_strand_list[i] == fl2_strand_list[j]:\r\n",
        "        if (fl2_start_list[i] <= fl2_end_list[j]) and (fl2_end_list[i] >= fl2_start_list[j]):\r\n",
        "          if i not in Trash_list:\r\n",
        "            Trash_list.append(i)\r\n",
        "\r\n",
        "      if fl2_chr_list[i] == \"X\" and fl2_chr_list[j] == \"X\" and fl2_strand_list[i] == fl2_strand_list[j]:\r\n",
        "        if (fl2_start_list[i] <= fl2_end_list[j]) and (fl2_end_list[i] >= fl2_start_list[j]):\r\n",
        "          if i not in Trash_list:\r\n",
        "            Trash_list.append(i)\r\n",
        "\r\n",
        "      if fl2_chr_list[i] == \"8\" and fl2_chr_list[j] == \"8\" and fl2_strand_list[i] == fl2_strand_list[j]:\r\n",
        "        if (fl2_start_list[i] <= fl2_end_list[j]) and (fl2_end_list[i] >= fl2_start_list[j]):\r\n",
        "          if i not in Trash_list:\r\n",
        "            Trash_list.append(i)\r\n",
        "\r\n",
        "      if fl2_chr_list[i] == \"9\" and fl2_chr_list[j] == \"9\" and fl2_strand_list[i] == fl2_strand_list[j]:\r\n",
        "        if (fl2_start_list[i] <= fl2_end_list[j]) and (fl2_end_list[i] >= fl2_start_list[j]):\r\n",
        "          if i not in Trash_list:\r\n",
        "            Trash_list.append(i)\r\n",
        "\r\n",
        "      if fl2_chr_list[i] == \"10\" and fl2_chr_list[j] == \"10\" and fl2_strand_list[i] == fl2_strand_list[j]:\r\n",
        "        if (fl2_start_list[i] <= fl2_end_list[j]) and (fl2_end_list[i] >= fl2_start_list[j]):\r\n",
        "          if i not in Trash_list:\r\n",
        "            Trash_list.append(i)\r\n",
        "\r\n",
        "      if fl2_chr_list[i] == \"11\" and fl2_chr_list[j] == \"11\" and fl2_strand_list[i] == fl2_strand_list[j]:\r\n",
        "        if (fl2_start_list[i] <= fl2_end_list[j]) and (fl2_end_list[i] >= fl2_start_list[j]):\r\n",
        "          if i not in Trash_list:\r\n",
        "            Trash_list.append(i)\r\n",
        "\r\n",
        "      if fl2_chr_list[i] == \"12\" and fl2_chr_list[j] == \"12\" and fl2_strand_list[i] == fl2_strand_list[j]:\r\n",
        "        if (fl2_start_list[i] <= fl2_end_list[j]) and (fl2_end_list[i] >= fl2_start_list[j]):\r\n",
        "          if i not in Trash_list:\r\n",
        "            Trash_list.append(i)\r\n",
        "\r\n",
        "      if fl2_chr_list[i] == \"13\" and fl2_chr_list[j] == \"13\" and fl2_strand_list[i] == fl2_strand_list[j]:\r\n",
        "        if (fl2_start_list[i] <= fl2_end_list[j]) and (fl2_end_list[i] >= fl2_start_list[j]):\r\n",
        "          if i not in Trash_list:\r\n",
        "            Trash_list.append(i)\r\n",
        "\r\n",
        "      if fl2_chr_list[i] == \"14\" and fl2_chr_list[j] == \"14\" and fl2_strand_list[i] == fl2_strand_list[j]:\r\n",
        "        if (fl2_start_list[i] <= fl2_end_list[j]) and (fl2_end_list[i] >= fl2_start_list[j]):\r\n",
        "          if i not in Trash_list:\r\n",
        "            Trash_list.append(i)\r\n",
        "\r\n",
        "      if fl2_chr_list[i] == \"15\" and fl2_chr_list[j] == \"15\" and fl2_strand_list[i] == fl2_strand_list[j]:\r\n",
        "        if (fl2_start_list[i] <= fl2_end_list[j]) and (fl2_end_list[i] >= fl2_start_list[j]):\r\n",
        "          if i not in Trash_list:\r\n",
        "            Trash_list.append(i)\r\n",
        "\r\n",
        "      if fl2_chr_list[i] == \"16\" and fl2_chr_list[j] == \"16\" and fl2_strand_list[i] == fl2_strand_list[j]:\r\n",
        "        if (fl2_start_list[i] <= fl2_end_list[j]) and (fl2_end_list[i] >= fl2_start_list[j]):\r\n",
        "          if i not in Trash_list:\r\n",
        "            Trash_list.append(i)\r\n",
        "\r\n",
        "      if fl2_chr_list[i] == \"17\" and fl2_chr_list[j] == \"17\" and fl2_strand_list[i] == fl2_strand_list[j]:\r\n",
        "        if (fl2_start_list[i] <= fl2_end_list[j]) and (fl2_end_list[i] >= fl2_start_list[j]):\r\n",
        "          if i not in Trash_list:\r\n",
        "            Trash_list.append(i)\r\n",
        "\r\n",
        "      if fl2_chr_list[i] == \"18\" and fl2_chr_list[j] == \"18\" and fl2_strand_list[i] == fl2_strand_list[j]:\r\n",
        "        if (fl2_start_list[i] <= fl2_end_list[j]) and (fl2_end_list[i] >= fl2_start_list[j]):\r\n",
        "          if i not in Trash_list:\r\n",
        "            Trash_list.append(i)\r\n",
        "\r\n",
        "      if fl2_chr_list[i] == \"20\" and fl2_chr_list[j] == \"20\" and fl2_strand_list[i] == fl2_strand_list[j]:\r\n",
        "        if (fl2_start_list[i] <= fl2_end_list[j]) and (fl2_end_list[i] >= fl2_start_list[j]):\r\n",
        "          if i not in Trash_list:\r\n",
        "            Trash_list.append(i)\r\n",
        "\r\n",
        "      if fl2_chr_list[i] == \"19\" and fl2_chr_list[j] == \"19\" and fl2_strand_list[i] == fl2_strand_list[j]:\r\n",
        "        if (fl2_start_list[i] <= fl2_end_list[j]) and (fl2_end_list[i] >= fl2_start_list[j]):\r\n",
        "          if i not in Trash_list:\r\n",
        "            Trash_list.append(i)\r\n",
        "\r\n",
        "      if fl2_chr_list[i] == \"Y\" and fl2_chr_list[j] == \"Y\" and fl2_strand_list[i] == fl2_strand_list[j]:\r\n",
        "        if (fl2_start_list[i] <= fl2_end_list[j]) and (fl2_end_list[i] >= fl2_start_list[j]):\r\n",
        "          if i not in Trash_list:\r\n",
        "            Trash_list.append(i)\r\n",
        "\r\n",
        "      if fl2_chr_list[i] == \"22\" and fl2_chr_list[j] == \"22\" and fl2_strand_list[i] == fl2_strand_list[j]:\r\n",
        "        if (fl2_start_list[i] <= fl2_end_list[j]) and (fl2_end_list[i] >= fl2_start_list[j]):\r\n",
        "          if i not in Trash_list:\r\n",
        "            Trash_list.append(i)\r\n",
        "\r\n",
        "      if fl2_chr_list[i] == \"21\" and fl2_chr_list[j] == \"21\" and fl2_strand_list[i] == fl2_strand_list[j]:\r\n",
        "        if (fl2_start_list[i] <= fl2_end_list[j]) and (fl2_end_list[i] >= fl2_start_list[j]):\r\n",
        "          if i not in Trash_list:\r\n",
        "            Trash_list.append(i)\r\n",
        "\r\n",
        "  return Trash_list"
      ],
      "execution_count": null,
      "outputs": []
    },
    {
      "cell_type": "markdown",
      "metadata": {
        "id": "jjV0XaiA-S2o"
      },
      "source": [
        "# Check GeneOverlap results"
      ]
    },
    {
      "cell_type": "code",
      "metadata": {
        "id": "_gXc_rXAE-vR"
      },
      "source": [
        "fl2[\"Chromosome_Name\"].unique()"
      ],
      "execution_count": null,
      "outputs": []
    },
    {
      "cell_type": "code",
      "metadata": {
        "id": "ORYlNZpg-_fe"
      },
      "source": [
        "OverlappedGenes = GeneOverlap(fl2)\r\n",
        "print(OverlappedGenes)"
      ],
      "execution_count": null,
      "outputs": []
    },
    {
      "cell_type": "code",
      "metadata": {
        "id": "VeOR7Zd4NHUc"
      },
      "source": [
        "print(len(OverlappedGenes))"
      ],
      "execution_count": null,
      "outputs": []
    },
    {
      "cell_type": "code",
      "metadata": {
        "id": "_WwiE5SDUXuD"
      },
      "source": [
        "fl2.index"
      ],
      "execution_count": null,
      "outputs": []
    },
    {
      "cell_type": "code",
      "metadata": {
        "id": "n7w5Zv4kTHgz"
      },
      "source": [
        "fl2 = fl2.drop(OverlappedGenes)\r\n",
        "fl2"
      ],
      "execution_count": null,
      "outputs": []
    },
    {
      "cell_type": "code",
      "metadata": {
        "id": "9VkYvz-hZVxS"
      },
      "source": [
        "fl2.index"
      ],
      "execution_count": null,
      "outputs": []
    },
    {
      "cell_type": "code",
      "metadata": {
        "id": "-GYC_JadV4MP"
      },
      "source": [
        "DF4 = fl2.copy()\r\n",
        "DF4"
      ],
      "execution_count": null,
      "outputs": []
    },
    {
      "cell_type": "code",
      "metadata": {
        "id": "LOpqynE19Mah"
      },
      "source": [
        "DF4.loc[602:603]"
      ],
      "execution_count": null,
      "outputs": []
    },
    {
      "cell_type": "code",
      "metadata": {
        "id": "r6vfA3LA7z1c"
      },
      "source": [
        "del OverlappedGenes"
      ],
      "execution_count": null,
      "outputs": []
    },
    {
      "cell_type": "markdown",
      "metadata": {
        "id": "GlougFNF-rb0"
      },
      "source": [
        "# Selecting genes having at least (set distance to 15 000) 10000 base distance apart"
      ]
    },
    {
      "cell_type": "code",
      "metadata": {
        "id": "IrBNregl-PWh"
      },
      "source": [
        "Plus_DF = DF4[DF4[\"Strand\"] == \"+\"]\r\n",
        "Minus_DF = DF4[DF4[\"Strand\"] == \"-\"]"
      ],
      "execution_count": null,
      "outputs": []
    },
    {
      "cell_type": "code",
      "metadata": {
        "id": "t5DkvIGY-hj4"
      },
      "source": [
        "Plus_DF[\"Chromosome_Name_shifted\"] = Plus_DF[\"Chromosome_Name\"].shift(-1)\r\n",
        "Plus_DF[\"Start_shifted\"] = Plus_DF[\"Start\"].shift(-1)\r\n",
        "Plus_DF[\"End_shifted\"] = Plus_DF[\"End\"].shift(-1)"
      ],
      "execution_count": null,
      "outputs": []
    },
    {
      "cell_type": "code",
      "metadata": {
        "id": "upUojc4O-iID"
      },
      "source": [
        "Minus_DF[\"Chromosome_Name_shifted\"] = Minus_DF[\"Chromosome_Name\"].shift(-1)\r\n",
        "Minus_DF[\"Start_shifted\"] = Minus_DF[\"Start\"].shift(-1)\r\n",
        "Minus_DF[\"End_shifted\"] = Minus_DF[\"End\"].shift(-1)"
      ],
      "execution_count": null,
      "outputs": []
    },
    {
      "cell_type": "code",
      "metadata": {
        "id": "4JozaUkmI2EW"
      },
      "source": [
        "Minus_DF"
      ],
      "execution_count": null,
      "outputs": []
    },
    {
      "cell_type": "code",
      "metadata": {
        "id": "GDHCUncHfh6G"
      },
      "source": [
        "Plus_DF"
      ],
      "execution_count": null,
      "outputs": []
    },
    {
      "cell_type": "markdown",
      "metadata": {
        "id": "txHvbpR923r4"
      },
      "source": [
        "For Plus Strand"
      ]
    },
    {
      "cell_type": "code",
      "metadata": {
        "id": "l6OSW-C2h1XL"
      },
      "source": [
        "CHR_intersections_list = Plus_DF[Plus_DF[\"Chromosome_Name\"] != Plus_DF[\"Chromosome_Name_shifted\"]].index\r\n",
        "print(CHR_intersections_list)\r\n",
        "print(len(CHR_intersections_list))"
      ],
      "execution_count": null,
      "outputs": []
    },
    {
      "cell_type": "code",
      "metadata": {
        "id": "EbAaJXQHmoRf"
      },
      "source": [
        "Plus_DF[\"Chromosome_Name\"].unique()"
      ],
      "execution_count": null,
      "outputs": []
    },
    {
      "cell_type": "code",
      "metadata": {
        "id": "NM19OmeqizAL"
      },
      "source": [
        "CHR_list = ['1', '2', '3', '4', '5', '6', '7', 'X', '8', '9', '10', '11', '12', '13', '14', '15', '16', '17', '18', '20', '19', 'Y', '22', '21']\r\n",
        "\r\n",
        "for name, indexx in zip(CHR_list, CHR_intersections_list):\r\n",
        "  Plus_DF.loc[indexx, [\"Chromosome_Name_shifted\", \"Start_shifted\", \"End_shifted\"]] =  [name, 9999999999, 9999999999]"
      ],
      "execution_count": null,
      "outputs": []
    },
    {
      "cell_type": "code",
      "metadata": {
        "id": "LG_YXrxjjZ5N"
      },
      "source": [
        "Plus_DF[Plus_DF[\"Chromosome_Name\"] != Plus_DF[\"Chromosome_Name_shifted\"]].index"
      ],
      "execution_count": null,
      "outputs": []
    },
    {
      "cell_type": "code",
      "metadata": {
        "id": "4aTkT8gPu7nW"
      },
      "source": [
        "Plus_DF"
      ],
      "execution_count": null,
      "outputs": []
    },
    {
      "cell_type": "code",
      "metadata": {
        "id": "bt2hDMXxgCcA"
      },
      "source": [
        "Plus_GeneDiff_index = []\r\n",
        "c = 0\r\n",
        "\r\n",
        "for _, CHR_DF in Plus_DF.groupby(\"Chromosome_Name\"):\r\n",
        "  GeneDiff_index = CHR_DF[abs(CHR_DF[\"End\"] - CHR_DF[\"Start_shifted\"]) <= 15000].index\r\n",
        "  for index_el in GeneDiff_index:\r\n",
        "    Plus_GeneDiff_index.append(index_el)\r\n",
        "    c += 1\r\n",
        "\r\n",
        "print(c)"
      ],
      "execution_count": null,
      "outputs": []
    },
    {
      "cell_type": "code",
      "metadata": {
        "id": "EnBMOlIVBUut"
      },
      "source": [
        "print(Plus_GeneDiff_index)"
      ],
      "execution_count": null,
      "outputs": []
    },
    {
      "cell_type": "code",
      "metadata": {
        "id": "IuyV_pOwBjK-",
        "colab": {
          "base_uri": "https://localhost:8080/"
        },
        "outputId": "4b144ec9-eefd-41a9-d142-f2c78ef78a00"
      },
      "source": [
        "print(len(Plus_GeneDiff_index))"
      ],
      "execution_count": null,
      "outputs": [
        {
          "output_type": "stream",
          "text": [
            "1069\n"
          ],
          "name": "stdout"
        }
      ]
    },
    {
      "cell_type": "code",
      "metadata": {
        "id": "WmvNDzBdBp7N"
      },
      "source": [
        "Plus_Diff_DF = Plus_DF.drop(Plus_GeneDiff_index)\r\n",
        "\r\n",
        "Plus_Diff_DF"
      ],
      "execution_count": null,
      "outputs": []
    },
    {
      "cell_type": "code",
      "metadata": {
        "id": "q-TbES73EU3h",
        "colab": {
          "base_uri": "https://localhost:8080/"
        },
        "outputId": "d197c628-2edf-41ca-cd53-c005e895d364"
      },
      "source": [
        "Plus_Diff_DF[Plus_Diff_DF[\"Chromosome_Name\"] != Plus_Diff_DF[\"Chromosome_Name_shifted\"]].index"
      ],
      "execution_count": null,
      "outputs": [
        {
          "output_type": "execute_result",
          "data": {
            "text/plain": [
              "Int64Index([], dtype='int64')"
            ]
          },
          "metadata": {
            "tags": []
          },
          "execution_count": 41
        }
      ]
    },
    {
      "cell_type": "code",
      "metadata": {
        "id": "XNxpTimi2Uwx"
      },
      "source": [
        "del CHR_intersections_list, CHR_list, name, indexx, _, CHR_DF, GeneDiff_index, index_el, c, Plus_GeneDiff_index"
      ],
      "execution_count": null,
      "outputs": []
    },
    {
      "cell_type": "markdown",
      "metadata": {
        "id": "2aflx10IG1rQ"
      },
      "source": [
        "For Minus Strand"
      ]
    },
    {
      "cell_type": "code",
      "metadata": {
        "id": "gePeQzZaGSYF"
      },
      "source": [
        "CHR_intersections_list = Minus_DF[Minus_DF[\"Chromosome_Name\"] != Minus_DF[\"Chromosome_Name_shifted\"]].index\r\n",
        "print(CHR_intersections_list)\r\n",
        "print(len(CHR_intersections_list))"
      ],
      "execution_count": null,
      "outputs": []
    },
    {
      "cell_type": "code",
      "metadata": {
        "id": "vbhGw7b4FdoZ"
      },
      "source": [
        "CHR_list = ['1', '2', '3', '4', '5', '6', '7', 'X', '8', '9', '10', '11', '12', '13', '14', '15', '16', '17', '18', '20', '19', 'Y', '22', '21']\r\n",
        "\r\n",
        "for name, indexx in zip(CHR_list, CHR_intersections_list):\r\n",
        "  Minus_DF.loc[indexx, [\"Chromosome_Name_shifted\", \"Start_shifted\", \"End_shifted\"]] =  [name, 9999999999, 9999999999]"
      ],
      "execution_count": null,
      "outputs": []
    },
    {
      "cell_type": "code",
      "metadata": {
        "id": "IA9EYeJqGR87"
      },
      "source": [
        "Minus_DF[Minus_DF[\"Chromosome_Name\"] != Minus_DF[\"Chromosome_Name_shifted\"]].index"
      ],
      "execution_count": null,
      "outputs": []
    },
    {
      "cell_type": "code",
      "metadata": {
        "id": "x5N_K0avILjs"
      },
      "source": [
        "Minus_DF"
      ],
      "execution_count": null,
      "outputs": []
    },
    {
      "cell_type": "code",
      "metadata": {
        "id": "jAiWBLQ7FdaV",
        "colab": {
          "base_uri": "https://localhost:8080/"
        },
        "outputId": "92de764d-6199-4e35-d8a4-2ef2e3eeaf85"
      },
      "source": [
        "Minus_GeneDiff_index = []\r\n",
        "c = 0\r\n",
        "\r\n",
        "for _, CHR_DF in Minus_DF.groupby(\"Chromosome_Name\"):\r\n",
        "  GeneDiff_index = CHR_DF[abs(CHR_DF[\"End\"] - CHR_DF[\"Start_shifted\"]) <= 15000].index\r\n",
        "  for index_el in GeneDiff_index:\r\n",
        "    Minus_GeneDiff_index.append(index_el)\r\n",
        "    c += 1\r\n",
        "\r\n",
        "print(c)"
      ],
      "execution_count": null,
      "outputs": [
        {
          "output_type": "stream",
          "text": [
            "1037\n"
          ],
          "name": "stdout"
        }
      ]
    },
    {
      "cell_type": "code",
      "metadata": {
        "id": "18qZCBM0FVQ0"
      },
      "source": [
        "Minus_Diff_DF = Minus_DF.drop(Minus_GeneDiff_index)\r\n",
        "\r\n",
        "Minus_Diff_DF"
      ],
      "execution_count": null,
      "outputs": []
    },
    {
      "cell_type": "code",
      "metadata": {
        "id": "vsaZnZBKHM1H"
      },
      "source": [
        "Minus_Diff_DF[Minus_Diff_DF[\"Chromosome_Name\"] != Minus_Diff_DF[\"Chromosome_Name_shifted\"]].index"
      ],
      "execution_count": null,
      "outputs": []
    },
    {
      "cell_type": "code",
      "metadata": {
        "id": "9qzyJgcD2ldJ"
      },
      "source": [
        "del CHR_intersections_list, CHR_list, name, indexx, _, CHR_DF, GeneDiff_index, index_el, c, Minus_GeneDiff_index"
      ],
      "execution_count": null,
      "outputs": []
    },
    {
      "cell_type": "code",
      "metadata": {
        "id": "A1FBZAoI4H4V"
      },
      "source": [
        "Minus_Diff_DF[\"Chromosome_Name\"].unique()"
      ],
      "execution_count": null,
      "outputs": []
    },
    {
      "cell_type": "code",
      "metadata": {
        "id": "ww-z6-Z1JjGw"
      },
      "source": [
        "Minus_Diff_DF.loc[6633]     # 18176, 18687, 19887, 20003, 20439, 20688"
      ],
      "execution_count": null,
      "outputs": []
    },
    {
      "cell_type": "markdown",
      "metadata": {
        "id": "VG3wDdPI-otJ"
      },
      "source": [
        "# Merge Plus and Minus stranded Genes together"
      ]
    },
    {
      "cell_type": "code",
      "metadata": {
        "id": "eEgfG5LzMJsx"
      },
      "source": [
        "Filtered_DF = pd.concat([Plus_Diff_DF, Minus_Diff_DF], ignore_index=False, sort=False)"
      ],
      "execution_count": null,
      "outputs": []
    },
    {
      "cell_type": "code",
      "metadata": {
        "id": "HGIT0isS6LBl"
      },
      "source": [
        "Filtered_DF"
      ],
      "execution_count": null,
      "outputs": []
    },
    {
      "cell_type": "code",
      "metadata": {
        "id": "cJU5DOAo5TKz"
      },
      "source": [
        "del Filtered_DF[\"Chromosome_Name_shifted\"], Filtered_DF[\"Start_shifted\"], Filtered_DF[\"End_shifted\"]"
      ],
      "execution_count": null,
      "outputs": []
    },
    {
      "cell_type": "code",
      "metadata": {
        "id": "M9O5zGkyMu6b"
      },
      "source": [
        "Filtered_DF"
      ],
      "execution_count": null,
      "outputs": []
    },
    {
      "cell_type": "code",
      "metadata": {
        "id": "3tKBvkCC44jO"
      },
      "source": [
        "Filtered_sorted_DF = Filtered_DF.sort_index()"
      ],
      "execution_count": null,
      "outputs": []
    },
    {
      "cell_type": "code",
      "metadata": {
        "id": "K3og-ITCmLDR"
      },
      "source": [
        "Filtered_sorted_DF = Filtered_sorted_DF.reset_index(drop=True)"
      ],
      "execution_count": null,
      "outputs": []
    },
    {
      "cell_type": "code",
      "metadata": {
        "id": "3BpSloIx5Lcm"
      },
      "source": [
        "Filtered_sorted_DF"
      ],
      "execution_count": null,
      "outputs": []
    },
    {
      "cell_type": "markdown",
      "metadata": {
        "id": "ZZMB69fd6_0m"
      },
      "source": [
        "# Check Gene Overlaps agan in the new DataFrame"
      ]
    },
    {
      "cell_type": "code",
      "metadata": {
        "colab": {
          "base_uri": "https://localhost:8080/"
        },
        "id": "_Qd0HmIN69zl",
        "outputId": "313d6430-d98e-4b65-d26d-620d48293d99"
      },
      "source": [
        "OverlappedGenes = GeneOverlap(Filtered_sorted_DF)\r\n",
        "print(OverlappedGenes)"
      ],
      "execution_count": null,
      "outputs": [
        {
          "output_type": "stream",
          "text": [
            "[11105, 11107, 11116, 11120, 11127, 11129, 11131, 11136, 11146, 11156, 11157, 11167, 11171, 11178, 11181, 11185, 11192, 11197, 11202, 11205, 11207, 11221, 11225, 11227, 11232, 11237, 11240, 11248, 11252, 11261, 11273, 11277, 11281, 11291, 11297, 11303, 11305, 11311, 11313, 11323, 11329, 11346, 11353, 11355, 11358, 11362, 11365, 11369, 11387, 11393, 11402, 11405, 11408, 11411, 11421, 11424, 11432, 11444, 11447, 11452, 11455, 11457, 11460, 11462, 11464, 11468, 11471, 11473, 11479, 11484, 11490, 11498, 11500, 11505, 11517, 11525, 11531, 11533, 11541, 11545, 11549, 11557, 11559, 11562, 11572, 11575, 11577, 11580, 11589, 11595, 11607, 11609, 11612, 11620, 11622, 11625, 11644, 11649, 11656, 11666, 11668, 11674, 11678, 11682, 11692, 11696, 11701, 11705, 11708, 11713, 11715, 11720, 11727, 11731, 11737, 11739, 11744, 11749, 11751, 11754, 11759, 11763, 11776, 11778, 11781, 11786, 11789, 11795, 11807, 11818, 11834, 11845, 11847, 11850, 11852, 11856, 11858, 11862, 11869, 11882, 11884, 11888, 11894, 11896, 11899, 11901, 11904, 11911, 11914, 11918, 11922, 11931, 11934, 11943, 11952, 11961, 11968, 11972, 11998, 12004, 12023, 12025, 12027, 12042, 12046, 12080, 12083, 12088, 12092, 12100, 12103, 12113, 12118, 12121, 12123, 12127, 12143, 12147, 12150, 12161, 12164, 12184, 12190, 12193, 12196, 12206, 12208, 12227, 12240, 12244, 12248, 12250, 12252, 12269, 12276, 12281, 12288, 12290, 12292, 12296, 12302, 12304, 12306, 12308, 12317, 12331, 12333, 12343, 12353, 12356, 12361, 12366, 12370, 12392, 12395, 12414, 12420, 12425, 12441, 12451, 12458, 12486, 12492, 12504, 12509, 12522, 12524, 12540, 12545, 12547, 12552, 12554, 12556, 12564, 12569, 12574, 12576, 12583, 12587, 12603, 12609, 12612, 12614, 12618, 12620, 12622, 12626, 12644, 12649, 12658, 12662, 12665, 12675, 12681, 12695, 12706, 12709, 12715, 12719, 12722, 12727, 12741, 12753, 12768, 12771, 12775, 12792, 12799, 12805, 12813, 12816, 12820, 12830, 12833, 12837, 12841, 12847, 12849, 12851, 12858, 12866, 12883, 12893, 12896, 12898, 12901, 12907, 12910, 12912, 12917, 12923, 12930, 12940, 12947, 12965, 12971, 12973, 12978, 12983, 12985, 12988, 12992, 13004, 13006, 13011, 13021, 13024, 13030, 13037, 13039, 13052, 13065, 13069, 13127, 13134, 13138, 13150, 13157, 13164, 13167, 13174, 13178, 13184, 13199, 13203, 13207, 13211, 13213, 13216, 13222, 13224, 13233, 13237, 13242, 13245, 13264, 13270, 13273, 13278, 13280, 13282, 13284, 13288, 13290, 13306, 13321, 13329, 13339, 13373, 13376, 13378, 13380, 13390, 13393, 13396, 13399, 13405, 13407, 13409, 13439, 13443, 13450, 13451, 13458, 13460, 13463, 13466, 13471, 13479, 13482, 13488, 13492, 13495, 13498, 13500, 13505, 13512, 13517, 13536, 13543]\n"
          ],
          "name": "stdout"
        }
      ]
    },
    {
      "cell_type": "code",
      "metadata": {
        "id": "YofnVjXv7-cR"
      },
      "source": [
        "print(len(OverlappedGenes))"
      ],
      "execution_count": null,
      "outputs": []
    },
    {
      "cell_type": "code",
      "metadata": {
        "id": "E1sd119I8A9G",
        "colab": {
          "base_uri": "https://localhost:8080/"
        },
        "outputId": "1fd359ca-4a67-49b2-b357-cb7a9df20324"
      },
      "source": [
        "Filtered_sorted_DF.index"
      ],
      "execution_count": null,
      "outputs": [
        {
          "output_type": "execute_result",
          "data": {
            "text/plain": [
              "RangeIndex(start=0, stop=13554, step=1)"
            ]
          },
          "metadata": {
            "tags": []
          },
          "execution_count": 79
        }
      ]
    },
    {
      "cell_type": "code",
      "metadata": {
        "id": "Zc98clyB8DK4"
      },
      "source": [
        "del OverlappedGenes"
      ],
      "execution_count": null,
      "outputs": []
    },
    {
      "cell_type": "markdown",
      "metadata": {
        "id": "cQsRbi1L9HRu"
      },
      "source": [
        "Beware! Do not use below section if there is no overlapped genes at \r\n",
        "\r\n",
        "```\r\n",
        "OverlappedGenes list.\r\n",
        "```\r\n"
      ]
    },
    {
      "cell_type": "code",
      "metadata": {
        "id": "ytI7y6X38C0I",
        "colab": {
          "base_uri": "https://localhost:8080/",
          "height": 419
        },
        "outputId": "da9c2c3d-686a-4203-f142-2b2b5eee9894"
      },
      "source": [
        "Filtered_sorted_DF = Filtered_sorted_DF.drop(OverlappedGenes)\r\n",
        "Filtered_sorted_DF"
      ],
      "execution_count": null,
      "outputs": [
        {
          "output_type": "execute_result",
          "data": {
            "text/html": [
              "<div>\n",
              "<style scoped>\n",
              "    .dataframe tbody tr th:only-of-type {\n",
              "        vertical-align: middle;\n",
              "    }\n",
              "\n",
              "    .dataframe tbody tr th {\n",
              "        vertical-align: top;\n",
              "    }\n",
              "\n",
              "    .dataframe thead th {\n",
              "        text-align: right;\n",
              "    }\n",
              "</style>\n",
              "<table border=\"1\" class=\"dataframe\">\n",
              "  <thead>\n",
              "    <tr style=\"text-align: right;\">\n",
              "      <th></th>\n",
              "      <th>Chromosome_Name</th>\n",
              "      <th>Sequence_Source</th>\n",
              "      <th>Sequence_Feature</th>\n",
              "      <th>Start</th>\n",
              "      <th>End</th>\n",
              "      <th>Strand</th>\n",
              "      <th>Gene_ID</th>\n",
              "      <th>Gene_Name</th>\n",
              "    </tr>\n",
              "  </thead>\n",
              "  <tbody>\n",
              "    <tr>\n",
              "      <th>0</th>\n",
              "      <td>1</td>\n",
              "      <td>ensembl_havana</td>\n",
              "      <td>gene</td>\n",
              "      <td>14363</td>\n",
              "      <td>29806</td>\n",
              "      <td>-</td>\n",
              "      <td>\"ENSG00000227232\"</td>\n",
              "      <td>\"WASH7P\"</td>\n",
              "    </tr>\n",
              "    <tr>\n",
              "      <th>1</th>\n",
              "      <td>1</td>\n",
              "      <td>havana</td>\n",
              "      <td>gene</td>\n",
              "      <td>141474</td>\n",
              "      <td>173862</td>\n",
              "      <td>-</td>\n",
              "      <td>\"ENSG00000241860\"</td>\n",
              "      <td>\"RP11-34P13.13\"</td>\n",
              "    </tr>\n",
              "    <tr>\n",
              "      <th>2</th>\n",
              "      <td>1</td>\n",
              "      <td>havana</td>\n",
              "      <td>gene</td>\n",
              "      <td>227615</td>\n",
              "      <td>267253</td>\n",
              "      <td>-</td>\n",
              "      <td>\"ENSG00000228463\"</td>\n",
              "      <td>\"AP006222.2\"</td>\n",
              "    </tr>\n",
              "    <tr>\n",
              "      <th>3</th>\n",
              "      <td>1</td>\n",
              "      <td>ensembl_havana</td>\n",
              "      <td>gene</td>\n",
              "      <td>317720</td>\n",
              "      <td>453948</td>\n",
              "      <td>+</td>\n",
              "      <td>\"ENSG00000237094\"</td>\n",
              "      <td>\"RP4-669L17.10\"</td>\n",
              "    </tr>\n",
              "    <tr>\n",
              "      <th>4</th>\n",
              "      <td>1</td>\n",
              "      <td>havana</td>\n",
              "      <td>gene</td>\n",
              "      <td>536816</td>\n",
              "      <td>659930</td>\n",
              "      <td>-</td>\n",
              "      <td>\"ENSG00000230021\"</td>\n",
              "      <td>\"RP5-857K21.4\"</td>\n",
              "    </tr>\n",
              "    <tr>\n",
              "      <th>...</th>\n",
              "      <td>...</td>\n",
              "      <td>...</td>\n",
              "      <td>...</td>\n",
              "      <td>...</td>\n",
              "      <td>...</td>\n",
              "      <td>...</td>\n",
              "      <td>...</td>\n",
              "      <td>...</td>\n",
              "    </tr>\n",
              "    <tr>\n",
              "      <th>13549</th>\n",
              "      <td>21</td>\n",
              "      <td>ensembl_havana</td>\n",
              "      <td>gene</td>\n",
              "      <td>47649131</td>\n",
              "      <td>47679304</td>\n",
              "      <td>+</td>\n",
              "      <td>\"ENSG00000215424\"</td>\n",
              "      <td>\"MCM3AP-AS1\"</td>\n",
              "    </tr>\n",
              "    <tr>\n",
              "      <th>13550</th>\n",
              "      <td>21</td>\n",
              "      <td>ensembl_havana</td>\n",
              "      <td>gene</td>\n",
              "      <td>47706251</td>\n",
              "      <td>47717665</td>\n",
              "      <td>+</td>\n",
              "      <td>\"ENSG00000182362\"</td>\n",
              "      <td>\"YBEY\"</td>\n",
              "    </tr>\n",
              "    <tr>\n",
              "      <th>13551</th>\n",
              "      <td>21</td>\n",
              "      <td>ensembl_havana</td>\n",
              "      <td>gene</td>\n",
              "      <td>47720095</td>\n",
              "      <td>47743789</td>\n",
              "      <td>-</td>\n",
              "      <td>\"ENSG00000160298\"</td>\n",
              "      <td>\"C21orf58\"</td>\n",
              "    </tr>\n",
              "    <tr>\n",
              "      <th>13552</th>\n",
              "      <td>21</td>\n",
              "      <td>ensembl_havana</td>\n",
              "      <td>gene</td>\n",
              "      <td>47878812</td>\n",
              "      <td>47989926</td>\n",
              "      <td>+</td>\n",
              "      <td>\"ENSG00000160305\"</td>\n",
              "      <td>\"DIP2A\"</td>\n",
              "    </tr>\n",
              "    <tr>\n",
              "      <th>13553</th>\n",
              "      <td>21</td>\n",
              "      <td>ensembl_havana</td>\n",
              "      <td>gene</td>\n",
              "      <td>48055079</td>\n",
              "      <td>48085036</td>\n",
              "      <td>+</td>\n",
              "      <td>\"ENSG00000160310\"</td>\n",
              "      <td>\"PRMT2\"</td>\n",
              "    </tr>\n",
              "  </tbody>\n",
              "</table>\n",
              "<p>13174 rows × 8 columns</p>\n",
              "</div>"
            ],
            "text/plain": [
              "      Chromosome_Name Sequence_Source  ...            Gene_ID        Gene_Name\n",
              "0                   1  ensembl_havana  ...  \"ENSG00000227232\"         \"WASH7P\"\n",
              "1                   1          havana  ...  \"ENSG00000241860\"  \"RP11-34P13.13\"\n",
              "2                   1          havana  ...  \"ENSG00000228463\"     \"AP006222.2\"\n",
              "3                   1  ensembl_havana  ...  \"ENSG00000237094\"  \"RP4-669L17.10\"\n",
              "4                   1          havana  ...  \"ENSG00000230021\"   \"RP5-857K21.4\"\n",
              "...               ...             ...  ...                ...              ...\n",
              "13549              21  ensembl_havana  ...  \"ENSG00000215424\"     \"MCM3AP-AS1\"\n",
              "13550              21  ensembl_havana  ...  \"ENSG00000182362\"           \"YBEY\"\n",
              "13551              21  ensembl_havana  ...  \"ENSG00000160298\"       \"C21orf58\"\n",
              "13552              21  ensembl_havana  ...  \"ENSG00000160305\"          \"DIP2A\"\n",
              "13553              21  ensembl_havana  ...  \"ENSG00000160310\"          \"PRMT2\"\n",
              "\n",
              "[13174 rows x 8 columns]"
            ]
          },
          "metadata": {
            "tags": []
          },
          "execution_count": 80
        }
      ]
    },
    {
      "cell_type": "code",
      "metadata": {
        "id": "W8pUfL7G8Dd7"
      },
      "source": [
        "Filtered_sorted_DF.index"
      ],
      "execution_count": null,
      "outputs": []
    },
    {
      "cell_type": "markdown",
      "metadata": {
        "id": "MNZvw4ti9xuR"
      },
      "source": [
        "# Write _Filtered_sorted_DF_ as a csv file."
      ]
    },
    {
      "cell_type": "code",
      "metadata": {
        "id": "xyCZQ7D92MxU"
      },
      "source": [
        "Filtered_sorted_DF"
      ],
      "execution_count": null,
      "outputs": []
    },
    {
      "cell_type": "code",
      "metadata": {
        "id": "TGV8Gs4ELGq2"
      },
      "source": [
        "#Filtered_sorted_DF.str.replace({'Gene_ID' : '\"', 'Gene_Name' : '\"'}, '')"
      ],
      "execution_count": null,
      "outputs": []
    },
    {
      "cell_type": "code",
      "metadata": {
        "id": "B8uZcdkh2Sr6"
      },
      "source": [
        "Filtered_sorted_DF[\"Gene_Name\"] = Filtered_sorted_DF[\"Gene_Name\"].str.replace('\"','')"
      ],
      "execution_count": null,
      "outputs": []
    },
    {
      "cell_type": "code",
      "metadata": {
        "id": "8ZAkrFXoJ2W3"
      },
      "source": [
        "Filtered_sorted_DF[\"Gene_ID\"] = Filtered_sorted_DF[\"Gene_ID\"].str.replace('\"','')"
      ],
      "execution_count": null,
      "outputs": []
    },
    {
      "cell_type": "code",
      "metadata": {
        "id": "BBQrp6Ea24FX"
      },
      "source": [
        "Filtered_sorted_DF"
      ],
      "execution_count": null,
      "outputs": []
    },
    {
      "cell_type": "code",
      "metadata": {
        "id": "brh0mEs29-TI"
      },
      "source": [
        "Filtered_sorted_DF.to_csv(\"/content/drive/MyDrive/Scripts/Data/Filtered_sorted_WGS_GeneAnnotation.csv\", sep='\\t', header = col_headers , index=False)"
      ],
      "execution_count": null,
      "outputs": []
    },
    {
      "cell_type": "markdown",
      "metadata": {
        "id": "5kX23KKu3Rxv"
      },
      "source": [
        "# For creating files:\r\n",
        "\r\n",
        "1) 5kb Upstream of TSS\r\n",
        "\r\n",
        "2) 5kb Downstream of TSS\r\n",
        "\r\n",
        "3) 5kb Upstream of TES\r\n",
        "\r\n",
        "4) Intergenics"
      ]
    },
    {
      "cell_type": "markdown",
      "metadata": {
        "id": "2cP0JIIG41J7"
      },
      "source": [
        "## For 5kb Upstream TSS\r\n",
        "\r\n",
        "Data Structure should look like:\r\n",
        "\r\n",
        "Chr#   (TSS-5000)   TSS   +    .   .   .\r\n",
        "\r\n",
        "Chr#   TES   (TES + 5000)   -   .   .   ."
      ]
    },
    {
      "cell_type": "code",
      "metadata": {
        "id": "7NTnvu4uVB0d"
      },
      "source": [
        "Plus_filtered_DF = Filtered_sorted_DF[(Filtered_sorted_DF[\"Strand\"] == \"+\")]\r\n",
        "Minus_filtered_DF = Filtered_sorted_DF[(Filtered_sorted_DF[\"Strand\"] == \"-\")]"
      ],
      "execution_count": null,
      "outputs": []
    },
    {
      "cell_type": "code",
      "metadata": {
        "id": "YtyUjo9ZWjbL"
      },
      "source": [
        "Filtered_sorted_DF"
      ],
      "execution_count": null,
      "outputs": []
    },
    {
      "cell_type": "code",
      "metadata": {
        "id": "ZkDUXdgrWb2i"
      },
      "source": [
        "Plus_filtered_DF"
      ],
      "execution_count": null,
      "outputs": []
    },
    {
      "cell_type": "code",
      "metadata": {
        "id": "NL0eECa_aOK7"
      },
      "source": [
        "Minus_filtered_DF"
      ],
      "execution_count": null,
      "outputs": []
    },
    {
      "cell_type": "code",
      "metadata": {
        "id": "O2jkVxU1YKon"
      },
      "source": [
        "Plus_Nstart_col = pd.to_numeric(Plus_filtered_DF[\"Start\"]) - 5000"
      ],
      "execution_count": null,
      "outputs": []
    },
    {
      "cell_type": "code",
      "metadata": {
        "id": "7Q88UEcIYhst"
      },
      "source": [
        "Plus_Nstart_col"
      ],
      "execution_count": null,
      "outputs": []
    },
    {
      "cell_type": "code",
      "metadata": {
        "id": "oHtguW-kavq5"
      },
      "source": [
        "Minus_Nend_col = pd.to_numeric(Minus_filtered_DF[\"End\"]) + 5000"
      ],
      "execution_count": null,
      "outputs": []
    },
    {
      "cell_type": "code",
      "metadata": {
        "id": "QCxl0HHvbNIo"
      },
      "source": [
        "Minus_Nend_col"
      ],
      "execution_count": null,
      "outputs": []
    },
    {
      "cell_type": "markdown",
      "metadata": {
        "id": "q2-2xWUUmfil"
      },
      "source": [
        "Edit column values"
      ]
    },
    {
      "cell_type": "code",
      "metadata": {
        "id": "EYoxm3lRdWGZ"
      },
      "source": [
        "Plus_filtered_DF[\"End\"] = Plus_filtered_DF[\"Start\"]\r\n",
        "Plus_filtered_DF[\"Start\"] = Plus_Nstart_col\r\n",
        "Plus_filtered_DF"
      ],
      "execution_count": null,
      "outputs": []
    },
    {
      "cell_type": "code",
      "metadata": {
        "id": "yA8jRfVDgW1g"
      },
      "source": [
        "Minus_filtered_DF[\"Start\"] = Minus_filtered_DF[\"End\"]\r\n",
        "Minus_filtered_DF[\"End\"] = Minus_Nend_col\r\n",
        "Minus_filtered_DF"
      ],
      "execution_count": null,
      "outputs": []
    },
    {
      "cell_type": "markdown",
      "metadata": {
        "id": "z0HGIpirh43l"
      },
      "source": [
        "Merge Plus and Minus Dataframes"
      ]
    },
    {
      "cell_type": "code",
      "metadata": {
        "id": "BncGaOXNcz1q",
        "colab": {
          "base_uri": "https://localhost:8080/",
          "height": 419
        },
        "outputId": "56f43852-005c-4111-f3a0-67cbaf7515c4"
      },
      "source": [
        "UTSS_DF = pd.concat([Plus_filtered_DF, Minus_filtered_DF], ignore_index=False, sort=False)\r\n",
        "\r\n",
        "UTSS_sorted_DF = UTSS_DF.sort_index()\r\n",
        "UTSS_sorted_DF"
      ],
      "execution_count": null,
      "outputs": [
        {
          "output_type": "execute_result",
          "data": {
            "text/html": [
              "<div>\n",
              "<style scoped>\n",
              "    .dataframe tbody tr th:only-of-type {\n",
              "        vertical-align: middle;\n",
              "    }\n",
              "\n",
              "    .dataframe tbody tr th {\n",
              "        vertical-align: top;\n",
              "    }\n",
              "\n",
              "    .dataframe thead th {\n",
              "        text-align: right;\n",
              "    }\n",
              "</style>\n",
              "<table border=\"1\" class=\"dataframe\">\n",
              "  <thead>\n",
              "    <tr style=\"text-align: right;\">\n",
              "      <th></th>\n",
              "      <th>Chromosome_Name</th>\n",
              "      <th>Sequence_Source</th>\n",
              "      <th>Sequence_Feature</th>\n",
              "      <th>Start</th>\n",
              "      <th>End</th>\n",
              "      <th>Strand</th>\n",
              "      <th>Gene_ID</th>\n",
              "      <th>Gene_Name</th>\n",
              "    </tr>\n",
              "  </thead>\n",
              "  <tbody>\n",
              "    <tr>\n",
              "      <th>0</th>\n",
              "      <td>1</td>\n",
              "      <td>ensembl_havana</td>\n",
              "      <td>gene</td>\n",
              "      <td>29806</td>\n",
              "      <td>34806</td>\n",
              "      <td>-</td>\n",
              "      <td>ENSG00000227232</td>\n",
              "      <td>WASH7P</td>\n",
              "    </tr>\n",
              "    <tr>\n",
              "      <th>1</th>\n",
              "      <td>1</td>\n",
              "      <td>havana</td>\n",
              "      <td>gene</td>\n",
              "      <td>173862</td>\n",
              "      <td>178862</td>\n",
              "      <td>-</td>\n",
              "      <td>ENSG00000241860</td>\n",
              "      <td>RP11-34P13.13</td>\n",
              "    </tr>\n",
              "    <tr>\n",
              "      <th>2</th>\n",
              "      <td>1</td>\n",
              "      <td>havana</td>\n",
              "      <td>gene</td>\n",
              "      <td>267253</td>\n",
              "      <td>272253</td>\n",
              "      <td>-</td>\n",
              "      <td>ENSG00000228463</td>\n",
              "      <td>AP006222.2</td>\n",
              "    </tr>\n",
              "    <tr>\n",
              "      <th>3</th>\n",
              "      <td>1</td>\n",
              "      <td>ensembl_havana</td>\n",
              "      <td>gene</td>\n",
              "      <td>312720</td>\n",
              "      <td>317720</td>\n",
              "      <td>+</td>\n",
              "      <td>ENSG00000237094</td>\n",
              "      <td>RP4-669L17.10</td>\n",
              "    </tr>\n",
              "    <tr>\n",
              "      <th>4</th>\n",
              "      <td>1</td>\n",
              "      <td>havana</td>\n",
              "      <td>gene</td>\n",
              "      <td>659930</td>\n",
              "      <td>664930</td>\n",
              "      <td>-</td>\n",
              "      <td>ENSG00000230021</td>\n",
              "      <td>RP5-857K21.4</td>\n",
              "    </tr>\n",
              "    <tr>\n",
              "      <th>...</th>\n",
              "      <td>...</td>\n",
              "      <td>...</td>\n",
              "      <td>...</td>\n",
              "      <td>...</td>\n",
              "      <td>...</td>\n",
              "      <td>...</td>\n",
              "      <td>...</td>\n",
              "      <td>...</td>\n",
              "    </tr>\n",
              "    <tr>\n",
              "      <th>13549</th>\n",
              "      <td>21</td>\n",
              "      <td>ensembl_havana</td>\n",
              "      <td>gene</td>\n",
              "      <td>47644131</td>\n",
              "      <td>47649131</td>\n",
              "      <td>+</td>\n",
              "      <td>ENSG00000215424</td>\n",
              "      <td>MCM3AP-AS1</td>\n",
              "    </tr>\n",
              "    <tr>\n",
              "      <th>13550</th>\n",
              "      <td>21</td>\n",
              "      <td>ensembl_havana</td>\n",
              "      <td>gene</td>\n",
              "      <td>47701251</td>\n",
              "      <td>47706251</td>\n",
              "      <td>+</td>\n",
              "      <td>ENSG00000182362</td>\n",
              "      <td>YBEY</td>\n",
              "    </tr>\n",
              "    <tr>\n",
              "      <th>13551</th>\n",
              "      <td>21</td>\n",
              "      <td>ensembl_havana</td>\n",
              "      <td>gene</td>\n",
              "      <td>47743789</td>\n",
              "      <td>47748789</td>\n",
              "      <td>-</td>\n",
              "      <td>ENSG00000160298</td>\n",
              "      <td>C21orf58</td>\n",
              "    </tr>\n",
              "    <tr>\n",
              "      <th>13552</th>\n",
              "      <td>21</td>\n",
              "      <td>ensembl_havana</td>\n",
              "      <td>gene</td>\n",
              "      <td>47873812</td>\n",
              "      <td>47878812</td>\n",
              "      <td>+</td>\n",
              "      <td>ENSG00000160305</td>\n",
              "      <td>DIP2A</td>\n",
              "    </tr>\n",
              "    <tr>\n",
              "      <th>13553</th>\n",
              "      <td>21</td>\n",
              "      <td>ensembl_havana</td>\n",
              "      <td>gene</td>\n",
              "      <td>48050079</td>\n",
              "      <td>48055079</td>\n",
              "      <td>+</td>\n",
              "      <td>ENSG00000160310</td>\n",
              "      <td>PRMT2</td>\n",
              "    </tr>\n",
              "  </tbody>\n",
              "</table>\n",
              "<p>13174 rows × 8 columns</p>\n",
              "</div>"
            ],
            "text/plain": [
              "      Chromosome_Name Sequence_Source  ...          Gene_ID      Gene_Name\n",
              "0                   1  ensembl_havana  ...  ENSG00000227232         WASH7P\n",
              "1                   1          havana  ...  ENSG00000241860  RP11-34P13.13\n",
              "2                   1          havana  ...  ENSG00000228463     AP006222.2\n",
              "3                   1  ensembl_havana  ...  ENSG00000237094  RP4-669L17.10\n",
              "4                   1          havana  ...  ENSG00000230021   RP5-857K21.4\n",
              "...               ...             ...  ...              ...            ...\n",
              "13549              21  ensembl_havana  ...  ENSG00000215424     MCM3AP-AS1\n",
              "13550              21  ensembl_havana  ...  ENSG00000182362           YBEY\n",
              "13551              21  ensembl_havana  ...  ENSG00000160298       C21orf58\n",
              "13552              21  ensembl_havana  ...  ENSG00000160305          DIP2A\n",
              "13553              21  ensembl_havana  ...  ENSG00000160310          PRMT2\n",
              "\n",
              "[13174 rows x 8 columns]"
            ]
          },
          "metadata": {
            "tags": []
          },
          "execution_count": 91
        }
      ]
    },
    {
      "cell_type": "code",
      "metadata": {
        "id": "FbEdUwEtj0y1"
      },
      "source": [
        "del Plus_filtered_DF, Plus_Nstart_col, Minus_filtered_DF, Minus_Nend_col, UTSS_DF"
      ],
      "execution_count": null,
      "outputs": []
    },
    {
      "cell_type": "markdown",
      "metadata": {
        "id": "Q69j-8oC5hW4"
      },
      "source": [
        "## For 5kb Downstream TSS\r\n",
        "\r\n",
        "Data Structure should look like:\r\n",
        "\r\n",
        "Chr#   TSS   (TSS + 5000)   +   .   .   .\r\n",
        "\r\n",
        "Chr#   (TES - 5000)   TES   -   .   .   ."
      ]
    },
    {
      "cell_type": "code",
      "metadata": {
        "id": "OtBauMZnnN9k"
      },
      "source": [
        "Plus_filtered_DF = Filtered_sorted_DF[(Filtered_sorted_DF[\"Strand\"] == \"+\")]\r\n",
        "Minus_filtered_DF = Filtered_sorted_DF[(Filtered_sorted_DF[\"Strand\"] == \"-\")]"
      ],
      "execution_count": null,
      "outputs": []
    },
    {
      "cell_type": "code",
      "metadata": {
        "id": "tKkNtCI-nNzM"
      },
      "source": [
        "Filtered_sorted_DF"
      ],
      "execution_count": null,
      "outputs": []
    },
    {
      "cell_type": "code",
      "metadata": {
        "id": "jUO0t_6QmXsk"
      },
      "source": [
        "Plus_Nstart_col = pd.to_numeric(Plus_filtered_DF[\"Start\"]) + 5000"
      ],
      "execution_count": null,
      "outputs": []
    },
    {
      "cell_type": "code",
      "metadata": {
        "id": "UY3dIM9hnRL7"
      },
      "source": [
        "Plus_Nstart_col"
      ],
      "execution_count": null,
      "outputs": []
    },
    {
      "cell_type": "code",
      "metadata": {
        "id": "XKinysJImXg9"
      },
      "source": [
        "Minus_Nend_col = pd.to_numeric(Minus_filtered_DF[\"End\"]) - 5000"
      ],
      "execution_count": null,
      "outputs": []
    },
    {
      "cell_type": "code",
      "metadata": {
        "id": "SbIZNTk8nRXc"
      },
      "source": [
        "Minus_Nend_col"
      ],
      "execution_count": null,
      "outputs": []
    },
    {
      "cell_type": "markdown",
      "metadata": {
        "id": "eYd3-KoFmb0L"
      },
      "source": [
        "Edit column values"
      ]
    },
    {
      "cell_type": "code",
      "metadata": {
        "id": "Jy9tR99FmXSC"
      },
      "source": [
        "Plus_filtered_DF[\"End\"] = Plus_Nstart_col\r\n",
        "Plus_filtered_DF"
      ],
      "execution_count": null,
      "outputs": []
    },
    {
      "cell_type": "code",
      "metadata": {
        "id": "BJIPLHgP6ELZ"
      },
      "source": [
        "Minus_filtered_DF[\"Start\"] = Minus_Nend_col\r\n",
        "Minus_filtered_DF"
      ],
      "execution_count": null,
      "outputs": []
    },
    {
      "cell_type": "markdown",
      "metadata": {
        "id": "P_rvIWa0lPC9"
      },
      "source": [
        "Merge Plus and Minus Dataframes"
      ]
    },
    {
      "cell_type": "code",
      "metadata": {
        "id": "TjPoGDjglQNS"
      },
      "source": [
        "DTSS_DF = pd.concat([Plus_filtered_DF, Minus_filtered_DF], ignore_index=False, sort=False)\r\n",
        "\r\n",
        "DTSS_sorted_DF = DTSS_DF.sort_index()\r\n",
        "DTSS_sorted_DF"
      ],
      "execution_count": null,
      "outputs": []
    },
    {
      "cell_type": "code",
      "metadata": {
        "id": "kG34RI8YmRjX"
      },
      "source": [
        "del Plus_filtered_DF, Plus_Nstart_col, Minus_filtered_DF, Minus_Nend_col, DTSS_DF"
      ],
      "execution_count": null,
      "outputs": []
    },
    {
      "cell_type": "markdown",
      "metadata": {
        "id": "p-ZbMtVU6Hiz"
      },
      "source": [
        "## For 5kb Upstream TES\r\n",
        "\r\n",
        "Data Structure should look like:\r\n",
        "\r\n",
        "Chr#   TES - 5000   TES   +   .   .   .\r\n",
        "\r\n",
        "Chr#   TSS  TSS + 5000   -   .   .   ."
      ]
    },
    {
      "cell_type": "code",
      "metadata": {
        "id": "XBC1wD8yox3Q"
      },
      "source": [
        "Plus_filtered_DF = Filtered_sorted_DF[(Filtered_sorted_DF[\"Strand\"] == \"+\")]\r\n",
        "Minus_filtered_DF = Filtered_sorted_DF[(Filtered_sorted_DF[\"Strand\"] == \"-\")]"
      ],
      "execution_count": null,
      "outputs": []
    },
    {
      "cell_type": "code",
      "metadata": {
        "id": "DUF3MxILox3a"
      },
      "source": [
        "Filtered_sorted_DF"
      ],
      "execution_count": null,
      "outputs": []
    },
    {
      "cell_type": "code",
      "metadata": {
        "id": "o8nyir_gox3b"
      },
      "source": [
        "Plus_Nend_col = pd.to_numeric(Plus_filtered_DF[\"End\"]) - 5000"
      ],
      "execution_count": null,
      "outputs": []
    },
    {
      "cell_type": "code",
      "metadata": {
        "id": "HahtTsYPox3b"
      },
      "source": [
        "Plus_Nend_col"
      ],
      "execution_count": null,
      "outputs": []
    },
    {
      "cell_type": "code",
      "metadata": {
        "id": "tWqD4rdeox3b"
      },
      "source": [
        "Minus_Nstart_col = pd.to_numeric(Minus_filtered_DF[\"Start\"]) + 5000"
      ],
      "execution_count": null,
      "outputs": []
    },
    {
      "cell_type": "code",
      "metadata": {
        "id": "vl03wWPUox3b"
      },
      "source": [
        "Minus_Nstart_col"
      ],
      "execution_count": null,
      "outputs": []
    },
    {
      "cell_type": "markdown",
      "metadata": {
        "id": "8jhg0IsXox3c"
      },
      "source": [
        "Edit column values"
      ]
    },
    {
      "cell_type": "code",
      "metadata": {
        "id": "A36UjJbCox3c"
      },
      "source": [
        "Plus_filtered_DF[\"Start\"] = Plus_Nend_col\r\n",
        "Plus_filtered_DF"
      ],
      "execution_count": null,
      "outputs": []
    },
    {
      "cell_type": "code",
      "metadata": {
        "id": "6cudI-EIox3c"
      },
      "source": [
        "Minus_filtered_DF[\"End\"] = Minus_Nstart_col\r\n",
        "Minus_filtered_DF"
      ],
      "execution_count": null,
      "outputs": []
    },
    {
      "cell_type": "markdown",
      "metadata": {
        "id": "_TVwq8Irox3c"
      },
      "source": [
        "Merge Plus and Minus Dataframes"
      ]
    },
    {
      "cell_type": "code",
      "metadata": {
        "id": "L-d6td3aox3c",
        "colab": {
          "base_uri": "https://localhost:8080/",
          "height": 419
        },
        "outputId": "b9ca6a7d-d9c4-4a3b-d90e-49b302274df2"
      },
      "source": [
        "UTES_DF = pd.concat([Plus_filtered_DF, Minus_filtered_DF], ignore_index=False, sort=False)\r\n",
        "\r\n",
        "UTES_sorted_DF = UTES_DF.sort_index()\r\n",
        "UTES_sorted_DF"
      ],
      "execution_count": null,
      "outputs": [
        {
          "output_type": "execute_result",
          "data": {
            "text/html": [
              "<div>\n",
              "<style scoped>\n",
              "    .dataframe tbody tr th:only-of-type {\n",
              "        vertical-align: middle;\n",
              "    }\n",
              "\n",
              "    .dataframe tbody tr th {\n",
              "        vertical-align: top;\n",
              "    }\n",
              "\n",
              "    .dataframe thead th {\n",
              "        text-align: right;\n",
              "    }\n",
              "</style>\n",
              "<table border=\"1\" class=\"dataframe\">\n",
              "  <thead>\n",
              "    <tr style=\"text-align: right;\">\n",
              "      <th></th>\n",
              "      <th>Chromosome_Name</th>\n",
              "      <th>Sequence_Source</th>\n",
              "      <th>Sequence_Feature</th>\n",
              "      <th>Start</th>\n",
              "      <th>End</th>\n",
              "      <th>Strand</th>\n",
              "      <th>Gene_ID</th>\n",
              "      <th>Gene_Name</th>\n",
              "    </tr>\n",
              "  </thead>\n",
              "  <tbody>\n",
              "    <tr>\n",
              "      <th>0</th>\n",
              "      <td>1</td>\n",
              "      <td>ensembl_havana</td>\n",
              "      <td>gene</td>\n",
              "      <td>14363</td>\n",
              "      <td>19363</td>\n",
              "      <td>-</td>\n",
              "      <td>ENSG00000227232</td>\n",
              "      <td>WASH7P</td>\n",
              "    </tr>\n",
              "    <tr>\n",
              "      <th>1</th>\n",
              "      <td>1</td>\n",
              "      <td>havana</td>\n",
              "      <td>gene</td>\n",
              "      <td>141474</td>\n",
              "      <td>146474</td>\n",
              "      <td>-</td>\n",
              "      <td>ENSG00000241860</td>\n",
              "      <td>RP11-34P13.13</td>\n",
              "    </tr>\n",
              "    <tr>\n",
              "      <th>2</th>\n",
              "      <td>1</td>\n",
              "      <td>havana</td>\n",
              "      <td>gene</td>\n",
              "      <td>227615</td>\n",
              "      <td>232615</td>\n",
              "      <td>-</td>\n",
              "      <td>ENSG00000228463</td>\n",
              "      <td>AP006222.2</td>\n",
              "    </tr>\n",
              "    <tr>\n",
              "      <th>3</th>\n",
              "      <td>1</td>\n",
              "      <td>ensembl_havana</td>\n",
              "      <td>gene</td>\n",
              "      <td>448948</td>\n",
              "      <td>453948</td>\n",
              "      <td>+</td>\n",
              "      <td>ENSG00000237094</td>\n",
              "      <td>RP4-669L17.10</td>\n",
              "    </tr>\n",
              "    <tr>\n",
              "      <th>4</th>\n",
              "      <td>1</td>\n",
              "      <td>havana</td>\n",
              "      <td>gene</td>\n",
              "      <td>536816</td>\n",
              "      <td>541816</td>\n",
              "      <td>-</td>\n",
              "      <td>ENSG00000230021</td>\n",
              "      <td>RP5-857K21.4</td>\n",
              "    </tr>\n",
              "    <tr>\n",
              "      <th>...</th>\n",
              "      <td>...</td>\n",
              "      <td>...</td>\n",
              "      <td>...</td>\n",
              "      <td>...</td>\n",
              "      <td>...</td>\n",
              "      <td>...</td>\n",
              "      <td>...</td>\n",
              "      <td>...</td>\n",
              "    </tr>\n",
              "    <tr>\n",
              "      <th>13549</th>\n",
              "      <td>21</td>\n",
              "      <td>ensembl_havana</td>\n",
              "      <td>gene</td>\n",
              "      <td>47674304</td>\n",
              "      <td>47679304</td>\n",
              "      <td>+</td>\n",
              "      <td>ENSG00000215424</td>\n",
              "      <td>MCM3AP-AS1</td>\n",
              "    </tr>\n",
              "    <tr>\n",
              "      <th>13550</th>\n",
              "      <td>21</td>\n",
              "      <td>ensembl_havana</td>\n",
              "      <td>gene</td>\n",
              "      <td>47712665</td>\n",
              "      <td>47717665</td>\n",
              "      <td>+</td>\n",
              "      <td>ENSG00000182362</td>\n",
              "      <td>YBEY</td>\n",
              "    </tr>\n",
              "    <tr>\n",
              "      <th>13551</th>\n",
              "      <td>21</td>\n",
              "      <td>ensembl_havana</td>\n",
              "      <td>gene</td>\n",
              "      <td>47720095</td>\n",
              "      <td>47725095</td>\n",
              "      <td>-</td>\n",
              "      <td>ENSG00000160298</td>\n",
              "      <td>C21orf58</td>\n",
              "    </tr>\n",
              "    <tr>\n",
              "      <th>13552</th>\n",
              "      <td>21</td>\n",
              "      <td>ensembl_havana</td>\n",
              "      <td>gene</td>\n",
              "      <td>47984926</td>\n",
              "      <td>47989926</td>\n",
              "      <td>+</td>\n",
              "      <td>ENSG00000160305</td>\n",
              "      <td>DIP2A</td>\n",
              "    </tr>\n",
              "    <tr>\n",
              "      <th>13553</th>\n",
              "      <td>21</td>\n",
              "      <td>ensembl_havana</td>\n",
              "      <td>gene</td>\n",
              "      <td>48080036</td>\n",
              "      <td>48085036</td>\n",
              "      <td>+</td>\n",
              "      <td>ENSG00000160310</td>\n",
              "      <td>PRMT2</td>\n",
              "    </tr>\n",
              "  </tbody>\n",
              "</table>\n",
              "<p>13174 rows × 8 columns</p>\n",
              "</div>"
            ],
            "text/plain": [
              "      Chromosome_Name Sequence_Source  ...          Gene_ID      Gene_Name\n",
              "0                   1  ensembl_havana  ...  ENSG00000227232         WASH7P\n",
              "1                   1          havana  ...  ENSG00000241860  RP11-34P13.13\n",
              "2                   1          havana  ...  ENSG00000228463     AP006222.2\n",
              "3                   1  ensembl_havana  ...  ENSG00000237094  RP4-669L17.10\n",
              "4                   1          havana  ...  ENSG00000230021   RP5-857K21.4\n",
              "...               ...             ...  ...              ...            ...\n",
              "13549              21  ensembl_havana  ...  ENSG00000215424     MCM3AP-AS1\n",
              "13550              21  ensembl_havana  ...  ENSG00000182362           YBEY\n",
              "13551              21  ensembl_havana  ...  ENSG00000160298       C21orf58\n",
              "13552              21  ensembl_havana  ...  ENSG00000160305          DIP2A\n",
              "13553              21  ensembl_havana  ...  ENSG00000160310          PRMT2\n",
              "\n",
              "[13174 rows x 8 columns]"
            ]
          },
          "metadata": {
            "tags": []
          },
          "execution_count": 105
        }
      ]
    },
    {
      "cell_type": "code",
      "metadata": {
        "id": "b-sFwMHdox3d"
      },
      "source": [
        "del Plus_filtered_DF, Plus_Nend_col, Minus_filtered_DF, Minus_Nstart_col, UTES_DF"
      ],
      "execution_count": null,
      "outputs": []
    },
    {
      "cell_type": "markdown",
      "metadata": {
        "id": "vx6aJDan3r7s"
      },
      "source": [
        "# For finding intergenics region, apply the below code for acquiring whole genes including the regulatory sites as well."
      ]
    },
    {
      "cell_type": "code",
      "metadata": {
        "id": "snbs94S68Cai"
      },
      "source": [
        "del fl3, rline, column"
      ],
      "execution_count": null,
      "outputs": []
    },
    {
      "cell_type": "markdown",
      "metadata": {
        "id": "om0TwfYT8ePw"
      },
      "source": [
        "Extend genes toward their TSS region for discluing regulatory region before attaining intergenic regions."
      ]
    },
    {
      "cell_type": "code",
      "metadata": {
        "id": "GPRT6gzp3RQD"
      },
      "source": [
        "fl3 = open(\"/content/drive/MyDrive/Scripts/Data/Filtered_sorted_WGS_GeneAnnotation.csv\", \"r\")\r\n",
        "\r\n",
        "fl3_list = []\r\n",
        "\r\n",
        "for rline in fl3:\r\n",
        "  column = rline.split(\"\\t\")\r\n",
        "\r\n",
        "  if column[5] == \"+\":\r\n",
        "    column[3] = int(column[3]) - 5000\r\n",
        "    fl3_list.append([column[0], column[3], column[4], column[5], column[7]])\r\n",
        "\r\n",
        "  elif column[5] == \"-\":\r\n",
        "    column[4] = int(column[4]) + 5000\r\n",
        "    fl3_list.append([column[0], column[3], column[4], column[5], column[7]])\r\n",
        "\r\n",
        "fl3.close()"
      ],
      "execution_count": null,
      "outputs": []
    },
    {
      "cell_type": "code",
      "metadata": {
        "id": "OTiUCzg7PE0k"
      },
      "source": [
        "del fl3, rline, column"
      ],
      "execution_count": null,
      "outputs": []
    },
    {
      "cell_type": "code",
      "metadata": {
        "id": "7WWOFBXqM96_"
      },
      "source": [
        "fl3_DF = pd.DataFrame(fl3_list, columns= [\"Chromosome_Name\", \"Start\", \"End\", \"Strand\", \"Gene_Name\"])"
      ],
      "execution_count": null,
      "outputs": []
    },
    {
      "cell_type": "code",
      "metadata": {
        "id": "vKbEOVTx9gcF"
      },
      "source": [
        "del fl3_list"
      ],
      "execution_count": null,
      "outputs": []
    },
    {
      "cell_type": "code",
      "metadata": {
        "id": "kSVFyPWE89wr"
      },
      "source": [
        "fl3_DF"
      ],
      "execution_count": null,
      "outputs": []
    },
    {
      "cell_type": "markdown",
      "metadata": {
        "id": "33an1LWwVCy6"
      },
      "source": [
        "Remove unnecessary characters from the dataframe, if exist.\r\n"
      ]
    },
    {
      "cell_type": "code",
      "metadata": {
        "id": "B3cFZoCqOCwO"
      },
      "source": [
        "fl3_DF[\"Gene_Name\"] = fl3_DF[\"Gene_Name\"].str.replace('\"', '').str.replace('\\\\n$','')"
      ],
      "execution_count": null,
      "outputs": []
    },
    {
      "cell_type": "code",
      "metadata": {
        "id": "F8rzEY6qVPUK"
      },
      "source": [
        "fl3_DF"
      ],
      "execution_count": null,
      "outputs": []
    },
    {
      "cell_type": "markdown",
      "metadata": {
        "id": "ekAX0YDJU-Cx"
      },
      "source": [
        "Add \"chr\" suffix to the beginning of  chromosome name."
      ]
    },
    {
      "cell_type": "code",
      "metadata": {
        "id": "H2tfwHXRU7-G"
      },
      "source": [
        "fl3_DF[\"Chromosome_Name\"] = fl3_DF[\"Chromosome_Name\"].apply(lambda x: f\"chr{x}\")"
      ],
      "execution_count": null,
      "outputs": []
    },
    {
      "cell_type": "code",
      "metadata": {
        "id": "V_kt8Hbh9dDU",
        "colab": {
          "base_uri": "https://localhost:8080/",
          "height": 419
        },
        "outputId": "932ea177-4ae9-4008-90b7-356fcd5fbfac"
      },
      "source": [
        "fl3_DF"
      ],
      "execution_count": null,
      "outputs": [
        {
          "output_type": "execute_result",
          "data": {
            "text/html": [
              "<div>\n",
              "<style scoped>\n",
              "    .dataframe tbody tr th:only-of-type {\n",
              "        vertical-align: middle;\n",
              "    }\n",
              "\n",
              "    .dataframe tbody tr th {\n",
              "        vertical-align: top;\n",
              "    }\n",
              "\n",
              "    .dataframe thead th {\n",
              "        text-align: right;\n",
              "    }\n",
              "</style>\n",
              "<table border=\"1\" class=\"dataframe\">\n",
              "  <thead>\n",
              "    <tr style=\"text-align: right;\">\n",
              "      <th></th>\n",
              "      <th>Chromosome_Name</th>\n",
              "      <th>Start</th>\n",
              "      <th>End</th>\n",
              "      <th>Strand</th>\n",
              "      <th>Gene_Name</th>\n",
              "    </tr>\n",
              "  </thead>\n",
              "  <tbody>\n",
              "    <tr>\n",
              "      <th>0</th>\n",
              "      <td>chr1</td>\n",
              "      <td>14363</td>\n",
              "      <td>34807</td>\n",
              "      <td>-</td>\n",
              "      <td>WASH7P</td>\n",
              "    </tr>\n",
              "    <tr>\n",
              "      <th>1</th>\n",
              "      <td>chr1</td>\n",
              "      <td>141474</td>\n",
              "      <td>178863</td>\n",
              "      <td>-</td>\n",
              "      <td>RP11-34P13.13</td>\n",
              "    </tr>\n",
              "    <tr>\n",
              "      <th>2</th>\n",
              "      <td>chr1</td>\n",
              "      <td>227615</td>\n",
              "      <td>272254</td>\n",
              "      <td>-</td>\n",
              "      <td>AP006222.2</td>\n",
              "    </tr>\n",
              "    <tr>\n",
              "      <th>3</th>\n",
              "      <td>chr1</td>\n",
              "      <td>312719</td>\n",
              "      <td>453948</td>\n",
              "      <td>+</td>\n",
              "      <td>RP4-669L17.10</td>\n",
              "    </tr>\n",
              "    <tr>\n",
              "      <th>4</th>\n",
              "      <td>chr1</td>\n",
              "      <td>536816</td>\n",
              "      <td>664931</td>\n",
              "      <td>-</td>\n",
              "      <td>RP5-857K21.4</td>\n",
              "    </tr>\n",
              "    <tr>\n",
              "      <th>...</th>\n",
              "      <td>...</td>\n",
              "      <td>...</td>\n",
              "      <td>...</td>\n",
              "      <td>...</td>\n",
              "      <td>...</td>\n",
              "    </tr>\n",
              "    <tr>\n",
              "      <th>13169</th>\n",
              "      <td>chr21</td>\n",
              "      <td>47644130</td>\n",
              "      <td>47679304</td>\n",
              "      <td>+</td>\n",
              "      <td>MCM3AP-AS1</td>\n",
              "    </tr>\n",
              "    <tr>\n",
              "      <th>13170</th>\n",
              "      <td>chr21</td>\n",
              "      <td>47701250</td>\n",
              "      <td>47717665</td>\n",
              "      <td>+</td>\n",
              "      <td>YBEY</td>\n",
              "    </tr>\n",
              "    <tr>\n",
              "      <th>13171</th>\n",
              "      <td>chr21</td>\n",
              "      <td>47720095</td>\n",
              "      <td>47748790</td>\n",
              "      <td>-</td>\n",
              "      <td>C21orf58</td>\n",
              "    </tr>\n",
              "    <tr>\n",
              "      <th>13172</th>\n",
              "      <td>chr21</td>\n",
              "      <td>47873811</td>\n",
              "      <td>47989926</td>\n",
              "      <td>+</td>\n",
              "      <td>DIP2A</td>\n",
              "    </tr>\n",
              "    <tr>\n",
              "      <th>13173</th>\n",
              "      <td>chr21</td>\n",
              "      <td>48050078</td>\n",
              "      <td>48085036</td>\n",
              "      <td>+</td>\n",
              "      <td>PRMT2</td>\n",
              "    </tr>\n",
              "  </tbody>\n",
              "</table>\n",
              "<p>13174 rows × 5 columns</p>\n",
              "</div>"
            ],
            "text/plain": [
              "      Chromosome_Name     Start       End Strand      Gene_Name\n",
              "0                chr1     14363     34807      -         WASH7P\n",
              "1                chr1    141474    178863      -  RP11-34P13.13\n",
              "2                chr1    227615    272254      -     AP006222.2\n",
              "3                chr1    312719    453948      +  RP4-669L17.10\n",
              "4                chr1    536816    664931      -   RP5-857K21.4\n",
              "...               ...       ...       ...    ...            ...\n",
              "13169           chr21  47644130  47679304      +     MCM3AP-AS1\n",
              "13170           chr21  47701250  47717665      +           YBEY\n",
              "13171           chr21  47720095  47748790      -       C21orf58\n",
              "13172           chr21  47873811  47989926      +          DIP2A\n",
              "13173           chr21  48050078  48085036      +          PRMT2\n",
              "\n",
              "[13174 rows x 5 columns]"
            ]
          },
          "metadata": {
            "tags": []
          },
          "execution_count": 119
        }
      ]
    },
    {
      "cell_type": "markdown",
      "metadata": {
        "id": "lxxCi9_wXMpn"
      },
      "source": [
        "# Discard genes coordinates, which are excluded in 5kb divided reference genome and create regulatory sites extended genes.\r\n",
        "\r\n",
        "Do not forget to change the distance between adjacent genes as 15000, instead of 10000."
      ]
    },
    {
      "cell_type": "code",
      "metadata": {
        "id": "BJSATDxVN8Sf"
      },
      "source": [
        "Ref_Gen_DF = pd.read_csv(\"/content/drive/MyDrive/Scripts/Data/5kb_divided_hg19.bed\", delimiter=\"\\t\", header=None)\r\n",
        "Ref_Gen_DF"
      ],
      "execution_count": null,
      "outputs": []
    },
    {
      "cell_type": "code",
      "metadata": {
        "id": "bfCqAmvEnIns"
      },
      "source": [
        "Ref_Gen_DF[0] = Ref_Gen_DF[0].str.replace('chrM', 'chrY')"
      ],
      "execution_count": null,
      "outputs": []
    },
    {
      "cell_type": "markdown",
      "metadata": {
        "id": "L2QKPiR7x61B"
      },
      "source": [
        "Create a list of chromosome numbers"
      ]
    },
    {
      "cell_type": "code",
      "metadata": {
        "id": "ENu7BDXRNXxn"
      },
      "source": [
        "chr_name_list = Ref_Gen_DF[0].unique().tolist()\r\n",
        "chr_name_list"
      ],
      "execution_count": null,
      "outputs": []
    },
    {
      "cell_type": "markdown",
      "metadata": {
        "id": "YSYoWpdex-w2"
      },
      "source": [
        "Create a dictionary in which keys are chromosome names and values are number of genes for each given chromosome."
      ]
    },
    {
      "cell_type": "code",
      "metadata": {
        "id": "RTUKZEvlkVx9",
        "colab": {
          "base_uri": "https://localhost:8080/"
        },
        "outputId": "779d1cb8-8e48-4852-b8b3-f4d1ee585ded"
      },
      "source": [
        "index_num_dict = {}\r\n",
        "\r\n",
        "for loop in chr_name_list:\r\n",
        "  index_num = len(Ref_Gen_DF[Ref_Gen_DF[0] == loop])\r\n",
        "  index_num_dict[loop] = index_num\r\n",
        "\r\n",
        "print(index_num_dict)"
      ],
      "execution_count": null,
      "outputs": [
        {
          "output_type": "stream",
          "text": [
            "{'chr1': 49792, 'chr10': 26760, 'chr11': 27018, 'chr12': 26656, 'chr13': 22873, 'chr14': 21409, 'chr15': 20399, 'chr16': 18068, 'chr17': 16652, 'chr18': 16075, 'chr19': 11724, 'chr2': 48439, 'chr20': 12889, 'chr21': 9342, 'chr22': 10164, 'chr3': 39660, 'chr4': 38043, 'chr5': 36308, 'chr6': 34162, 'chr7': 31870, 'chr8': 29028, 'chr9': 27679, 'chrY': 4, 'chrX': 31209}\n"
          ],
          "name": "stdout"
        }
      ]
    },
    {
      "cell_type": "code",
      "metadata": {
        "id": "Irt_11FFR9d-"
      },
      "source": [
        "del loop, index_num"
      ],
      "execution_count": null,
      "outputs": []
    },
    {
      "cell_type": "markdown",
      "metadata": {
        "id": "E-PITKyTyQeV"
      },
      "source": [
        "Store the last element of each chromosome group by adding number of genes (rows) of every chromosome iteratively until the given chromosome's last element."
      ]
    },
    {
      "cell_type": "code",
      "metadata": {
        "id": "unKbIPIBTKTC"
      },
      "source": [
        "total = 0\r\n",
        "end_coord_list = []\r\n",
        "\r\n",
        "for dict_key, dict_value in index_num_dict.items():\r\n",
        "  total = total + dict_value\r\n",
        "  if dict_key == \"chr1\":\r\n",
        "    end_coord_list.append(Ref_Gen_DF.loc[total - 1, 2])\r\n",
        "  if dict_key == \"chr2\":\r\n",
        "    end_coord_list.append(Ref_Gen_DF.loc[total - 1, 2])\r\n",
        "  if dict_key == \"chr3\":\r\n",
        "    end_coord_list.append(Ref_Gen_DF.loc[total - 1, 2])\r\n",
        "  if dict_key == \"chr4\":\r\n",
        "    end_coord_list.append(Ref_Gen_DF.loc[total - 1, 2])\r\n",
        "  if dict_key == \"chr5\":\r\n",
        "    end_coord_list.append(Ref_Gen_DF.loc[total - 1, 2])\r\n",
        "  if dict_key == \"chr6\":\r\n",
        "    end_coord_list.append(Ref_Gen_DF.loc[total - 1, 2])\r\n",
        "  if dict_key == \"chr7\":\r\n",
        "    end_coord_list.append(Ref_Gen_DF.loc[total - 1, 2])\r\n",
        "  if dict_key == \"chrX\":\r\n",
        "    end_coord_list.append(Ref_Gen_DF.loc[total - 1, 2])\r\n",
        "  if dict_key == \"chr8\":\r\n",
        "    end_coord_list.append(Ref_Gen_DF.loc[total - 1, 2])\r\n",
        "  if dict_key == \"chr9\":\r\n",
        "    end_coord_list.append(Ref_Gen_DF.loc[total - 1, 2])\r\n",
        "  if dict_key == \"chr10\":\r\n",
        "    end_coord_list.append(Ref_Gen_DF.loc[total - 1, 2])\r\n",
        "  if dict_key == \"chr11\":\r\n",
        "    end_coord_list.append(Ref_Gen_DF.loc[total - 1, 2])\r\n",
        "  if dict_key == \"chr12\":\r\n",
        "    end_coord_list.append(Ref_Gen_DF.loc[total - 1, 2])\r\n",
        "  if dict_key == \"chr13\":\r\n",
        "    end_coord_list.append(Ref_Gen_DF.loc[total - 1, 2])\r\n",
        "  if dict_key == \"chr14\":\r\n",
        "    end_coord_list.append(Ref_Gen_DF.loc[total - 1, 2])\r\n",
        "  if dict_key == \"chr15\":\r\n",
        "    end_coord_list.append(Ref_Gen_DF.loc[total - 1, 2])\r\n",
        "  if dict_key == \"chr16\":\r\n",
        "    end_coord_list.append(Ref_Gen_DF.loc[total - 1, 2])\r\n",
        "  if dict_key == \"chr17\":\r\n",
        "    end_coord_list.append(Ref_Gen_DF.loc[total - 1, 2])\r\n",
        "  if dict_key == \"chr18\":\r\n",
        "    end_coord_list.append(Ref_Gen_DF.loc[total - 1, 2])\r\n",
        "  if dict_key == \"chr20\":\r\n",
        "    end_coord_list.append(Ref_Gen_DF.loc[total - 1, 2])\r\n",
        "  if dict_key == \"chr19\":\r\n",
        "    end_coord_list.append(Ref_Gen_DF.loc[total - 1, 2])\r\n",
        "  if dict_key == \"chrY\":\r\n",
        "    end_coord_list.append(Ref_Gen_DF.loc[total - 1, 2])\r\n",
        "  if dict_key == \"chr22\":\r\n",
        "    end_coord_list.append(Ref_Gen_DF.loc[total - 1, 2])\r\n",
        "  if dict_key == \"chr21\":\r\n",
        "    end_coord_list.append(Ref_Gen_DF.loc[total - 1, 2])\r\n"
      ],
      "execution_count": null,
      "outputs": []
    },
    {
      "cell_type": "code",
      "metadata": {
        "id": "PiIz3118v7Xx"
      },
      "source": [
        "fl4_DF = fl3_DF.copy()"
      ],
      "execution_count": null,
      "outputs": []
    },
    {
      "cell_type": "code",
      "metadata": {
        "id": "65bWEkFZwLfS"
      },
      "source": [
        "fl4_DF"
      ],
      "execution_count": null,
      "outputs": []
    },
    {
      "cell_type": "markdown",
      "metadata": {
        "id": "Kl-at-LdyuaS"
      },
      "source": [
        "According to number of elements of each chromosome group, only look at end coordinates of the last element of each chromosome group and compare it with the last element of the each chromosome's groups' reference genome. Then discard the genes which exceed the end coordinates of the reference genome using dataframe index."
      ]
    },
    {
      "cell_type": "code",
      "metadata": {
        "id": "MqiZQuf4boFw"
      },
      "source": [
        "for n, i in zip(chr_name_list, end_coord_list):\r\n",
        "  print(n)\r\n",
        "  Exceeded_indices = fl3_DF[(fl3_DF[\"Chromosome_Name\"] == n) & (pd.to_numeric(fl3_DF[\"End\"]) >= i)].index\r\n",
        "  fl4_DF = fl4_DF.drop(Exceeded_indices)"
      ],
      "execution_count": null,
      "outputs": []
    },
    {
      "cell_type": "code",
      "metadata": {
        "id": "lYoXYiNPtm4S"
      },
      "source": [
        "fl4_DF"
      ],
      "execution_count": null,
      "outputs": []
    },
    {
      "cell_type": "code",
      "metadata": {
        "id": "xeDGkFeCTj8c"
      },
      "source": [
        "del dict_key, dict_value, total, i, n, end_coord_list, Exceeded_indices, fl3_DF"
      ],
      "execution_count": null,
      "outputs": []
    },
    {
      "cell_type": "markdown",
      "metadata": {
        "id": "RGV06i3I3Ldk"
      },
      "source": [
        "Write down Dataframe as \".BED\" file for retrieving intergenic file."
      ]
    },
    {
      "cell_type": "code",
      "metadata": {
        "id": "Ua7yshRc3EfY"
      },
      "source": [
        "fl4_DF.to_csv(\"/content/drive/MyDrive/Scripts/Data/Extended_geneAnnotation.bed\", sep='\\t', index=False, header=False)"
      ],
      "execution_count": null,
      "outputs": []
    },
    {
      "cell_type": "markdown",
      "metadata": {
        "id": "2IAtp13At5PO"
      },
      "source": [
        "# Substract gene locations from referece genome"
      ]
    },
    {
      "cell_type": "code",
      "metadata": {
        "id": "r2BpXyDYLpsC"
      },
      "source": [
        "!bedtools subtract -a '/content/drive/MyDrive/Scripts/Data/5kb_divided_hg19.bed' -b '/content/drive/MyDrive/Scripts/Data/Extended_geneAnnotation.bed' > \"/content/drive/MyDrive/Scripts/Data/intergenes_init.bed\""
      ],
      "execution_count": null,
      "outputs": []
    },
    {
      "cell_type": "code",
      "metadata": {
        "id": "VBDD2M-2OSlV"
      },
      "source": [
        "Intergenes_DF = pd.read_csv(\"/content/drive/MyDrive/Scripts/Data/intergenes_init.bed\", delimiter=\"\\t\", names=[\"Chromosome_Name\", \"Start\", \"End\", \"S1\", \"S2\", \"S3\"])\r\n",
        "\r\n",
        "Intergenes_DF"
      ],
      "execution_count": null,
      "outputs": []
    },
    {
      "cell_type": "markdown",
      "metadata": {
        "id": "5TfWN5mLVZU-"
      },
      "source": [
        "Prepare intergene candidates regions for _bedtools intersect_."
      ]
    },
    {
      "cell_type": "code",
      "metadata": {
        "id": "ASWmCOqi421H"
      },
      "source": [
        "Intergenes_DF[\"Chromosome_Name\"] = Intergenes_DF[\"Chromosome_Name\"].str.replace(\"chrM\",\"chrY\")\r\n",
        "Intergenes_DF = Intergenes_DF.drop(Intergenes_DF[Intergenes_DF[\"Chromosome_Name\"] == \"chrY\"].index)"
      ],
      "execution_count": null,
      "outputs": []
    },
    {
      "cell_type": "code",
      "metadata": {
        "id": "RMckEdPucg81"
      },
      "source": [
        "Intergenes_DF"
      ],
      "execution_count": null,
      "outputs": []
    },
    {
      "cell_type": "code",
      "metadata": {
        "id": "ucWBA_jMdE3B"
      },
      "source": [
        "Intergenes_DF[Intergenes_DF[\"Chromosome_Name\"] == \"chrY\"]"
      ],
      "execution_count": null,
      "outputs": []
    },
    {
      "cell_type": "markdown",
      "metadata": {
        "id": "rC5sTPqr4HYL"
      },
      "source": [
        "Then, check for the gene start sites which had minus value."
      ]
    },
    {
      "cell_type": "code",
      "metadata": {
        "id": "WI8KjT4i4bik",
        "colab": {
          "base_uri": "https://localhost:8080/",
          "height": 49
        },
        "outputId": "fe2b9370-a78b-4cac-9236-f3017264cae1"
      },
      "source": [
        "Intergenes_DF[pd.to_numeric(Intergenes_DF[\"Start\"]) < 0]"
      ],
      "execution_count": null,
      "outputs": [
        {
          "output_type": "execute_result",
          "data": {
            "text/html": [
              "<div>\n",
              "<style scoped>\n",
              "    .dataframe tbody tr th:only-of-type {\n",
              "        vertical-align: middle;\n",
              "    }\n",
              "\n",
              "    .dataframe tbody tr th {\n",
              "        vertical-align: top;\n",
              "    }\n",
              "\n",
              "    .dataframe thead th {\n",
              "        text-align: right;\n",
              "    }\n",
              "</style>\n",
              "<table border=\"1\" class=\"dataframe\">\n",
              "  <thead>\n",
              "    <tr style=\"text-align: right;\">\n",
              "      <th></th>\n",
              "      <th>Chromosome_Name</th>\n",
              "      <th>Start</th>\n",
              "      <th>End</th>\n",
              "      <th>S1</th>\n",
              "      <th>S2</th>\n",
              "      <th>S3</th>\n",
              "    </tr>\n",
              "  </thead>\n",
              "  <tbody>\n",
              "  </tbody>\n",
              "</table>\n",
              "</div>"
            ],
            "text/plain": [
              "Empty DataFrame\n",
              "Columns: [Chromosome_Name, Start, End, S1, S2, S3]\n",
              "Index: []"
            ]
          },
          "metadata": {
            "tags": []
          },
          "execution_count": 10
        }
      ]
    },
    {
      "cell_type": "markdown",
      "metadata": {
        "id": "9UthHC2_3UDn"
      },
      "source": [
        "To remove genes having minus value."
      ]
    },
    {
      "cell_type": "code",
      "metadata": {
        "id": "hml_Zj5u3C-d"
      },
      "source": [
        "target_indices = Intergenes_DF[Intergenes_DF[\"Start\"] <= 0].index\r\n",
        "#print(target_indices)\r\n",
        "\r\n",
        "Intergenes_DF = Intergenes_DF.drop(target_indices)"
      ],
      "execution_count": null,
      "outputs": []
    },
    {
      "cell_type": "code",
      "metadata": {
        "id": "1pagqZeDxNkq"
      },
      "source": [
        "Intergenes_DF"
      ],
      "execution_count": null,
      "outputs": []
    },
    {
      "cell_type": "markdown",
      "metadata": {
        "id": "azy6G8jYxykF"
      },
      "source": [
        "# Select mappable intergenic regions."
      ]
    },
    {
      "cell_type": "code",
      "metadata": {
        "id": "XYQ2YzFvyA4C"
      },
      "source": [
        "damage_seq = pd.read_csv(\"/content/drive/MyDrive/Scripts/Data/Damage_regions_Hg19Genome.bed\", delimiter=\"\\t\", names=[\"Chromosome_Name\", \"Start\", \"End\", \"RPKM\", \"Label\"])\r\n",
        "damage_seq"
      ],
      "execution_count": null,
      "outputs": []
    },
    {
      "cell_type": "markdown",
      "metadata": {
        "id": "57ffoHt8NXEg"
      },
      "source": [
        "## Tried to combine dataframes. - Not enough RAM"
      ]
    },
    {
      "cell_type": "code",
      "metadata": {
        "id": "i9-AS90JwyRt"
      },
      "source": [
        "Intergenes_edited_DF = pd.merge(D64A[[\"Chromosome_Name\", \"Start\", \"End\"]], Intergenes_DF[[\"Chromosome_Name\", \"Start\", \"End\"]], how='outer', on='Chromosome_Name', suffixes=('','_2'))\r\n",
        "Intergenes_edited_DF"
      ],
      "execution_count": null,
      "outputs": []
    },
    {
      "cell_type": "markdown",
      "metadata": {
        "id": "oj88x33RNcL7"
      },
      "source": [
        "## Tried to create lists and check the coditions according to these lists."
      ]
    },
    {
      "cell_type": "code",
      "metadata": {
        "id": "F8uGyadKet7q"
      },
      "source": [
        "del damage_seq, D64A"
      ],
      "execution_count": null,
      "outputs": []
    },
    {
      "cell_type": "code",
      "metadata": {
        "id": "2w5VeKwWzCdH"
      },
      "source": [
        "D64A = damage_seq[damage_seq[\"Label\"] == \"HDA64A1_ATCACG\"]"
      ],
      "execution_count": null,
      "outputs": []
    },
    {
      "cell_type": "code",
      "metadata": {
        "id": "eANugyt1zGAx"
      },
      "source": [
        "dmg_chr = D64A[\"Chromosome_Name\"].to_list()\r\n",
        "dmg_str = D64A[\"Start\"].to_list()\r\n",
        "dmg_end = D64A[\"End\"].to_list()\r\n",
        "\r\n",
        "inter_chr = Intergenes_DF[\"Chromosome_Name\"].to_list()\r\n",
        "inter_str = Intergenes_DF[\"Start\"].to_list()\r\n",
        "inter_end = Intergenes_DF[\"End\"].to_list()\r\n",
        "\r\n",
        "gene_indexes = []\r\n",
        "\r\n",
        "for i in range(0, len(Intergenes_DF)):\r\n",
        "  for j in range(0, len(D64A)):\r\n",
        "    if inter_chr[i] == dmg_chr[j]:\r\n",
        "      if (inter_str[i] >= dmg_str[j]) and (inter_end[i] <= dmg_end[j]):\r\n",
        "        gene_indexes.append(i)          "
      ],
      "execution_count": null,
      "outputs": []
    },
    {
      "cell_type": "code",
      "metadata": {
        "id": "lWsG3hfIzq1m"
      },
      "source": [
        "del i, j, inter_end, inter_str, inter_chr, dmg_end, dmg_str, dmg_chr"
      ],
      "execution_count": null,
      "outputs": []
    },
    {
      "cell_type": "markdown",
      "metadata": {
        "id": "2YHOvJfERkWN"
      },
      "source": [
        "## Intersect damage-seq and Intergenes using _bedtools intersect_\r\n",
        "\r\n",
        "Chaning overlap percentage does not make any change in the count values. I have tried -f values as 0.2, 0.5, and 0.9, all gave the same results.\r\n",
        "\r\n",
        "\r\n",
        "\r\n",
        "*   There is not count value higher than 1.\r\n",
        "*   The number of count numbers for 1 is same for all three -f values.\r\n",
        "*   The number of count numbers for 1 is same for all three -f values.\r\n",
        "\r\n",
        "\r\n",
        "\r\n"
      ]
    },
    {
      "cell_type": "code",
      "metadata": {
        "id": "cR0LUZrafYJo"
      },
      "source": [
        "D64A = damage_seq[damage_seq[\"Label\"] == \"HDA64A1_ATCACG\"]\r\n",
        "D64A = D64A.drop(D64A[D64A[\"Chromosome_Name\"] == \"chrM\"].index)"
      ],
      "execution_count": null,
      "outputs": []
    },
    {
      "cell_type": "code",
      "metadata": {
        "id": "ddPjp20JTunT"
      },
      "source": [
        "D64A.to_csv(\"/content/drive/MyDrive/Scripts/Data/DMG64PP_RepA.bed\", sep='\\t', index=False, header=False)\r\n",
        "Intergenes_DF.to_csv(\"/content/drive/MyDrive/Scripts/Data/intergenes_sec.bed\", sep='\\t', index=False, header=False)"
      ],
      "execution_count": null,
      "outputs": []
    },
    {
      "cell_type": "code",
      "metadata": {
        "id": "1cZP59v3av3F",
        "colab": {
          "base_uri": "https://localhost:8080/"
        },
        "outputId": "bb1cc66c-3653-41ca-c857-0372713af5be"
      },
      "source": [
        "!sort -k1,1 -V -k2,2n \"/content/drive/MyDrive/Scripts/Data/DMG64PP_RepA.bed\" > \"/content/drive/MyDrive/Scripts/Data/DMG64PP_RepA_sorted.bed\"\r\n",
        "!sort -k1,1 -V -k2,2n \"/content/drive/MyDrive/Scripts/Data/intergenes_sec.bed\" > \"/content/drive/MyDrive/Scripts/Data/intergenes_sec_sorted.bed\""
      ],
      "execution_count": null,
      "outputs": [
        {
          "output_type": "stream",
          "text": [
            "tcmalloc: large alloc 2806611968 bytes == 0x557436f04000 @  0x7f7d141631e7 0x55743451c718 0x55743451b5a1 0x7f7d13b41bf7 0x55743451c02a\n",
            "tcmalloc: large alloc 1211080704 bytes == 0x55f96e8a6000 @  0x7f44b2fc01e7 0x55f96d169718 0x55f96d1685a1 0x7f44b299ebf7 0x55f96d16902a\n"
          ],
          "name": "stdout"
        }
      ]
    },
    {
      "cell_type": "code",
      "metadata": {
        "id": "_Le-0Np8RqXz"
      },
      "source": [
        "!bedtools intersect -sorted -a \"/content/drive/MyDrive/Scripts/Data/intergenes_sec_sorted.bed\" -b \"/content/drive/MyDrive/Scripts/Data/DMG64PP_RepA_sorted.bed\" -wa -c -f 1.0 > '/content/drive/MyDrive/Scripts/Data/intergenic_sites.bed'"
      ],
      "execution_count": null,
      "outputs": []
    },
    {
      "cell_type": "code",
      "metadata": {
        "colab": {
          "base_uri": "https://localhost:8080/",
          "height": 419
        },
        "id": "0chQlCMuXG5O",
        "outputId": "00f4a986-4955-44e7-a561-74b07abf5964"
      },
      "source": [
        "Intergenes = pd.read_csv(\"/content/drive/MyDrive/Scripts/Data/intergenic_sites.bed\", delimiter=\"\\t\", names=[\"Chromosome_Name\", \"Start\", \"End\", \"S1\", \"S2\", \"S3\", \"Counts\"])\r\n",
        "Intergenes"
      ],
      "execution_count": null,
      "outputs": [
        {
          "output_type": "execute_result",
          "data": {
            "text/html": [
              "<div>\n",
              "<style scoped>\n",
              "    .dataframe tbody tr th:only-of-type {\n",
              "        vertical-align: middle;\n",
              "    }\n",
              "\n",
              "    .dataframe tbody tr th {\n",
              "        vertical-align: top;\n",
              "    }\n",
              "\n",
              "    .dataframe thead th {\n",
              "        text-align: right;\n",
              "    }\n",
              "</style>\n",
              "<table border=\"1\" class=\"dataframe\">\n",
              "  <thead>\n",
              "    <tr style=\"text-align: right;\">\n",
              "      <th></th>\n",
              "      <th>Chromosome_Name</th>\n",
              "      <th>Start</th>\n",
              "      <th>End</th>\n",
              "      <th>S1</th>\n",
              "      <th>S2</th>\n",
              "      <th>S3</th>\n",
              "      <th>Counts</th>\n",
              "    </tr>\n",
              "  </thead>\n",
              "  <tbody>\n",
              "    <tr>\n",
              "      <th>0</th>\n",
              "      <td>chr1</td>\n",
              "      <td>0</td>\n",
              "      <td>5000</td>\n",
              "      <td>.</td>\n",
              "      <td>.</td>\n",
              "      <td>.</td>\n",
              "      <td>0</td>\n",
              "    </tr>\n",
              "    <tr>\n",
              "      <th>1</th>\n",
              "      <td>chr1</td>\n",
              "      <td>5000</td>\n",
              "      <td>10000</td>\n",
              "      <td>.</td>\n",
              "      <td>.</td>\n",
              "      <td>.</td>\n",
              "      <td>0</td>\n",
              "    </tr>\n",
              "    <tr>\n",
              "      <th>2</th>\n",
              "      <td>chr1</td>\n",
              "      <td>10000</td>\n",
              "      <td>14363</td>\n",
              "      <td>.</td>\n",
              "      <td>.</td>\n",
              "      <td>.</td>\n",
              "      <td>1</td>\n",
              "    </tr>\n",
              "    <tr>\n",
              "      <th>3</th>\n",
              "      <td>chr1</td>\n",
              "      <td>34807</td>\n",
              "      <td>35000</td>\n",
              "      <td>.</td>\n",
              "      <td>.</td>\n",
              "      <td>.</td>\n",
              "      <td>0</td>\n",
              "    </tr>\n",
              "    <tr>\n",
              "      <th>4</th>\n",
              "      <td>chr1</td>\n",
              "      <td>35000</td>\n",
              "      <td>40000</td>\n",
              "      <td>.</td>\n",
              "      <td>.</td>\n",
              "      <td>.</td>\n",
              "      <td>0</td>\n",
              "    </tr>\n",
              "    <tr>\n",
              "      <th>...</th>\n",
              "      <td>...</td>\n",
              "      <td>...</td>\n",
              "      <td>...</td>\n",
              "      <td>...</td>\n",
              "      <td>...</td>\n",
              "      <td>...</td>\n",
              "      <td>...</td>\n",
              "    </tr>\n",
              "    <tr>\n",
              "      <th>418511</th>\n",
              "      <td>chrX</td>\n",
              "      <td>156020000</td>\n",
              "      <td>156025000</td>\n",
              "      <td>.</td>\n",
              "      <td>.</td>\n",
              "      <td>.</td>\n",
              "      <td>0</td>\n",
              "    </tr>\n",
              "    <tr>\n",
              "      <th>418512</th>\n",
              "      <td>chrX</td>\n",
              "      <td>156025000</td>\n",
              "      <td>156030000</td>\n",
              "      <td>.</td>\n",
              "      <td>.</td>\n",
              "      <td>.</td>\n",
              "      <td>0</td>\n",
              "    </tr>\n",
              "    <tr>\n",
              "      <th>418513</th>\n",
              "      <td>chrX</td>\n",
              "      <td>156030000</td>\n",
              "      <td>156035000</td>\n",
              "      <td>.</td>\n",
              "      <td>.</td>\n",
              "      <td>.</td>\n",
              "      <td>0</td>\n",
              "    </tr>\n",
              "    <tr>\n",
              "      <th>418514</th>\n",
              "      <td>chrX</td>\n",
              "      <td>156035000</td>\n",
              "      <td>156040000</td>\n",
              "      <td>.</td>\n",
              "      <td>.</td>\n",
              "      <td>.</td>\n",
              "      <td>0</td>\n",
              "    </tr>\n",
              "    <tr>\n",
              "      <th>418515</th>\n",
              "      <td>chrX</td>\n",
              "      <td>156040000</td>\n",
              "      <td>156040895</td>\n",
              "      <td>.</td>\n",
              "      <td>.</td>\n",
              "      <td>.</td>\n",
              "      <td>0</td>\n",
              "    </tr>\n",
              "  </tbody>\n",
              "</table>\n",
              "<p>418516 rows × 7 columns</p>\n",
              "</div>"
            ],
            "text/plain": [
              "       Chromosome_Name      Start        End S1 S2 S3  Counts\n",
              "0                 chr1          0       5000  .  .  .       0\n",
              "1                 chr1       5000      10000  .  .  .       0\n",
              "2                 chr1      10000      14363  .  .  .       1\n",
              "3                 chr1      34807      35000  .  .  .       0\n",
              "4                 chr1      35000      40000  .  .  .       0\n",
              "...                ...        ...        ... .. .. ..     ...\n",
              "418511            chrX  156020000  156025000  .  .  .       0\n",
              "418512            chrX  156025000  156030000  .  .  .       0\n",
              "418513            chrX  156030000  156035000  .  .  .       0\n",
              "418514            chrX  156035000  156040000  .  .  .       0\n",
              "418515            chrX  156040000  156040895  .  .  .       0\n",
              "\n",
              "[418516 rows x 7 columns]"
            ]
          },
          "metadata": {
            "tags": []
          },
          "execution_count": 61
        }
      ]
    },
    {
      "cell_type": "code",
      "metadata": {
        "colab": {
          "base_uri": "https://localhost:8080/",
          "height": 419
        },
        "id": "PY5jbb3XXQCo",
        "outputId": "ebad7b26-3981-4692-d3c1-a0293bbf542b"
      },
      "source": [
        "Intergenes[Intergenes[\"Counts\"] > 0]"
      ],
      "execution_count": null,
      "outputs": [
        {
          "output_type": "execute_result",
          "data": {
            "text/html": [
              "<div>\n",
              "<style scoped>\n",
              "    .dataframe tbody tr th:only-of-type {\n",
              "        vertical-align: middle;\n",
              "    }\n",
              "\n",
              "    .dataframe tbody tr th {\n",
              "        vertical-align: top;\n",
              "    }\n",
              "\n",
              "    .dataframe thead th {\n",
              "        text-align: right;\n",
              "    }\n",
              "</style>\n",
              "<table border=\"1\" class=\"dataframe\">\n",
              "  <thead>\n",
              "    <tr style=\"text-align: right;\">\n",
              "      <th></th>\n",
              "      <th>Chromosome_Name</th>\n",
              "      <th>Start</th>\n",
              "      <th>End</th>\n",
              "      <th>S1</th>\n",
              "      <th>S2</th>\n",
              "      <th>S3</th>\n",
              "      <th>Counts</th>\n",
              "    </tr>\n",
              "  </thead>\n",
              "  <tbody>\n",
              "    <tr>\n",
              "      <th>2</th>\n",
              "      <td>chr1</td>\n",
              "      <td>10000</td>\n",
              "      <td>14363</td>\n",
              "      <td>.</td>\n",
              "      <td>.</td>\n",
              "      <td>.</td>\n",
              "      <td>1</td>\n",
              "    </tr>\n",
              "    <tr>\n",
              "      <th>8</th>\n",
              "      <td>chr1</td>\n",
              "      <td>55000</td>\n",
              "      <td>60000</td>\n",
              "      <td>.</td>\n",
              "      <td>.</td>\n",
              "      <td>.</td>\n",
              "      <td>1</td>\n",
              "    </tr>\n",
              "    <tr>\n",
              "      <th>9</th>\n",
              "      <td>chr1</td>\n",
              "      <td>60000</td>\n",
              "      <td>65000</td>\n",
              "      <td>.</td>\n",
              "      <td>.</td>\n",
              "      <td>.</td>\n",
              "      <td>1</td>\n",
              "    </tr>\n",
              "    <tr>\n",
              "      <th>10</th>\n",
              "      <td>chr1</td>\n",
              "      <td>65000</td>\n",
              "      <td>70000</td>\n",
              "      <td>.</td>\n",
              "      <td>.</td>\n",
              "      <td>.</td>\n",
              "      <td>1</td>\n",
              "    </tr>\n",
              "    <tr>\n",
              "      <th>11</th>\n",
              "      <td>chr1</td>\n",
              "      <td>70000</td>\n",
              "      <td>75000</td>\n",
              "      <td>.</td>\n",
              "      <td>.</td>\n",
              "      <td>.</td>\n",
              "      <td>1</td>\n",
              "    </tr>\n",
              "    <tr>\n",
              "      <th>...</th>\n",
              "      <td>...</td>\n",
              "      <td>...</td>\n",
              "      <td>...</td>\n",
              "      <td>...</td>\n",
              "      <td>...</td>\n",
              "      <td>...</td>\n",
              "      <td>...</td>\n",
              "    </tr>\n",
              "    <tr>\n",
              "      <th>418308</th>\n",
              "      <td>chrX</td>\n",
              "      <td>154905000</td>\n",
              "      <td>154910000</td>\n",
              "      <td>.</td>\n",
              "      <td>.</td>\n",
              "      <td>.</td>\n",
              "      <td>1</td>\n",
              "    </tr>\n",
              "    <tr>\n",
              "      <th>418309</th>\n",
              "      <td>chrX</td>\n",
              "      <td>154910000</td>\n",
              "      <td>154915000</td>\n",
              "      <td>.</td>\n",
              "      <td>.</td>\n",
              "      <td>.</td>\n",
              "      <td>1</td>\n",
              "    </tr>\n",
              "    <tr>\n",
              "      <th>418310</th>\n",
              "      <td>chrX</td>\n",
              "      <td>154915000</td>\n",
              "      <td>154920000</td>\n",
              "      <td>.</td>\n",
              "      <td>.</td>\n",
              "      <td>.</td>\n",
              "      <td>1</td>\n",
              "    </tr>\n",
              "    <tr>\n",
              "      <th>418311</th>\n",
              "      <td>chrX</td>\n",
              "      <td>154920000</td>\n",
              "      <td>154925000</td>\n",
              "      <td>.</td>\n",
              "      <td>.</td>\n",
              "      <td>.</td>\n",
              "      <td>1</td>\n",
              "    </tr>\n",
              "    <tr>\n",
              "      <th>418312</th>\n",
              "      <td>chrX</td>\n",
              "      <td>154925000</td>\n",
              "      <td>154930000</td>\n",
              "      <td>.</td>\n",
              "      <td>.</td>\n",
              "      <td>.</td>\n",
              "      <td>1</td>\n",
              "    </tr>\n",
              "  </tbody>\n",
              "</table>\n",
              "<p>360910 rows × 7 columns</p>\n",
              "</div>"
            ],
            "text/plain": [
              "       Chromosome_Name      Start        End S1 S2 S3  Counts\n",
              "2                 chr1      10000      14363  .  .  .       1\n",
              "8                 chr1      55000      60000  .  .  .       1\n",
              "9                 chr1      60000      65000  .  .  .       1\n",
              "10                chr1      65000      70000  .  .  .       1\n",
              "11                chr1      70000      75000  .  .  .       1\n",
              "...                ...        ...        ... .. .. ..     ...\n",
              "418308            chrX  154905000  154910000  .  .  .       1\n",
              "418309            chrX  154910000  154915000  .  .  .       1\n",
              "418310            chrX  154915000  154920000  .  .  .       1\n",
              "418311            chrX  154920000  154925000  .  .  .       1\n",
              "418312            chrX  154925000  154930000  .  .  .       1\n",
              "\n",
              "[360910 rows x 7 columns]"
            ]
          },
          "metadata": {
            "tags": []
          },
          "execution_count": 62
        }
      ]
    },
    {
      "cell_type": "code",
      "metadata": {
        "id": "cyp6pNfQelbM"
      },
      "source": [
        "Intergenes[Intergenes[\"Counts\"] > 1]"
      ],
      "execution_count": null,
      "outputs": []
    },
    {
      "cell_type": "code",
      "metadata": {
        "id": "_CoWkvP6VMsn"
      },
      "source": [
        "del Intergenes"
      ],
      "execution_count": null,
      "outputs": []
    },
    {
      "cell_type": "markdown",
      "metadata": {
        "id": "AciYZ-lBNi1w"
      },
      "source": [
        "## Tried to check the conditions using series and dataframes directly. - Too slow"
      ]
    },
    {
      "cell_type": "code",
      "metadata": {
        "id": "dC2IWMZlLEjH"
      },
      "source": [
        "it = 0\r\n",
        "\r\n",
        "for i in range(0, len(Intergenes_DF)):\r\n",
        "  for j in range(0, len(damage_seq)):\r\n",
        "    if (Intergenes_DF.loc[i, \"Chromosome_Name\"] == damage_seq.loc[j, \"Chromosome_Name\"]) and (Intergenes_DF.loc[i, \"Start\"] >= damage_seq.loc[j, \"Start\"]) and (Intergenes_DF.loc[i, \"End\"] <= damage_seq.loc[j, \"End\"]):\r\n",
        "      it += 1\r\n",
        "\r\n",
        "print(it)"
      ],
      "execution_count": null,
      "outputs": []
    },
    {
      "cell_type": "markdown",
      "metadata": {
        "id": "Ljun1IiHNncM"
      },
      "source": [
        "## Tried to use numpy condition to check and compare two dataframes. - Not sure whether its working"
      ]
    },
    {
      "cell_type": "code",
      "metadata": {
        "id": "nytexRXxzoy1"
      },
      "source": [
        "for i in range(0, len(Intergenes_DF)):\r\n",
        "  for j in range(0, len(damage_seq)):\r\n",
        "    if Intergenes_DF.loc[i, \"Chromosome_Name\"] == damage_seq.loc[j, \"Chromosome_Name\"]:\r\n",
        "      Intergenes_DF.loc[i, \"Overlap\"] = np.where((Intergenes_DF.loc[i, \"Chromosome_Name\"] == damage_seq.loc[j, \"Chromosome_Name\"]) & (Intergenes_DF.loc[i, \"Start\"] >= damage_seq.loc[j, \"Start\"]) & (Intergenes_DF.loc[i, \"End\"] <= damage_seq.loc[j, \"End\"]), True, False)"
      ],
      "execution_count": null,
      "outputs": []
    },
    {
      "cell_type": "code",
      "metadata": {
        "id": "GfzoHOkM5jUw"
      },
      "source": [
        "del Intergenes_DF"
      ],
      "execution_count": null,
      "outputs": []
    },
    {
      "cell_type": "markdown",
      "metadata": {
        "id": "3l6R809r2gjx"
      },
      "source": [
        "# Write down genes and intergenes reads as \".bed\"."
      ]
    },
    {
      "cell_type": "code",
      "metadata": {
        "id": "Perc6Vek-Zt3"
      },
      "source": [
        "path = \"/content/drive/MyDrive/Scripts/Data/\"\r\n",
        "\r\n",
        "UTSS_sorted_DF.to_csv(path + \"U_TSS_raw.bed\", sep='\\t', index=False, header=False)\r\n",
        "\r\n",
        "DTSS_sorted_DF.to_csv(path + \"D_TSS_raw.bed\", sep='\\t', index=False, header=False)\r\n",
        "\r\n",
        "UTES_sorted_DF.to_csv(path + \"U_TES_raw.bed\", sep='\\t', index=False, header=False)\r\n",
        "\r\n",
        "Intergenes_DF.to_csv(path + \"Intergenes_raw.bed\", sep='\\t', index=False, header=False)"
      ],
      "execution_count": null,
      "outputs": []
    }
  ]
}